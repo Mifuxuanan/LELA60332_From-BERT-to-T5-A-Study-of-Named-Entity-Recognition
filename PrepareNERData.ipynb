{
 "cells": [
  {
   "cell_type": "code",
   "execution_count": 1,
   "id": "1853f72f-a465-4120-8a36-65916b65bdb6",
   "metadata": {
    "tags": []
   },
   "outputs": [],
   "source": [
    "from collections import defaultdict\n",
    "from urllib import request\n",
    "import json\n",
    "import pandas as pd"
   ]
  },
  {
   "cell_type": "code",
   "execution_count": 2,
   "id": "35e8fe76-d9ba-4e31-abbf-df797e9f6ff9",
   "metadata": {
    "tags": []
   },
   "outputs": [],
   "source": [
    "def parse_conllu_using_pandas(block):\n",
    "    records = []\n",
    "    for line in block.splitlines():\n",
    "        if not line.startswith('#'):\n",
    "            records.append(line.strip().split('\\t'))\n",
    "    return pd.DataFrame.from_records(\n",
    "        records,\n",
    "        columns=['ID', 'FORM', 'TAG', 'Misc1', 'Misc2'])"
   ]
  },
  {
   "cell_type": "code",
   "execution_count": 3,
   "id": "35cb93ef-bdd8-4b75-bfb0-78e0b55efa55",
   "metadata": {
    "tags": []
   },
   "outputs": [],
   "source": [
    "def tokens_to_labels(df):\n",
    "    return (\n",
    "        df.FORM.tolist(),\n",
    "        df.TAG.tolist()\n",
    "    )"
   ]
  },
  {
   "cell_type": "code",
   "execution_count": 4,
   "id": "1da10e1c-5b6d-4317-8444-2a9ba7643246",
   "metadata": {
    "tags": []
   },
   "outputs": [],
   "source": [
    "PREFIX = \"https://raw.githubusercontent.com/UniversalNER/\"\n",
    "DATA_URLS = {\n",
    "    \"en_ewt\": {\n",
    "        \"train\": \"UNER_English-EWT/master/en_ewt-ud-train.iob2\",\n",
    "        \"dev\": \"UNER_English-EWT/master/en_ewt-ud-dev.iob2\",\n",
    "        \"test\": \"UNER_English-EWT/master/en_ewt-ud-test.iob2\"\n",
    "    },\n",
    "    \"en_pud\": {\n",
    "        \"test\": \"UNER_English-PUD/master/en_pud-ud-test.iob2\"\n",
    "    }\n",
    "}"
   ]
  },
  {
   "cell_type": "code",
   "execution_count": 5,
   "id": "05ba84e2-cf65-44af-a171-ca967dda9171",
   "metadata": {
    "tags": []
   },
   "outputs": [],
   "source": [
    "# en_ewt is the main train-dev-test split\n",
    "# en_pud is the OOD test set\n",
    "data_dict = defaultdict(dict)\n",
    "for corpus, split_dict in DATA_URLS.items():\n",
    "    for split, url_suffix in split_dict.items():\n",
    "        url = PREFIX + url_suffix\n",
    "        with request.urlopen(url) as response:\n",
    "            txt = response.read().decode('utf-8')\n",
    "            data_frames = map(parse_conllu_using_pandas,\n",
    "                              txt.strip().split('\\n\\n'))\n",
    "            token_label_alignments = list(map(tokens_to_labels,\n",
    "                                              data_frames))\n",
    "            data_dict[corpus][split] = token_label_alignments"
   ]
  },
  {
   "cell_type": "code",
   "execution_count": 6,
   "id": "eb40dbdf-a048-4691-8f95-63d4926d2cca",
   "metadata": {
    "tags": []
   },
   "outputs": [],
   "source": [
    "# data_dict = defaultdict(dict)\n",
    "# for corpus, split_dict in DATA_URLS.items():\n",
    "#     for split, url_suffix in split_dict.items():\n",
    "#         url = PREFIX + url_suffix\n",
    "#         with request.urlopen(url) as response:\n",
    "#             txt = response.read().decode('utf-8')\n",
    "#             data_frames = map(parse_conllu_using_pandas,\n",
    "#                               txt.split('\\n\\n'))\n",
    "#             token_label_alignments = list(map(tokens_to_labels,\n",
    "#                                               data_frames))\n",
    "#             data_dict[corpus][split] = token_label_alignments"
   ]
  },
  {
   "cell_type": "code",
   "execution_count": 6,
   "id": "ba859ac8-66e1-4c4e-9647-b47f90677b54",
   "metadata": {
    "tags": []
   },
   "outputs": [],
   "source": [
    "# Saving the data so that you don't have to redownload it each time.\n",
    "with open('ner_data_dict.json', 'w', encoding='utf-8') as out:\n",
    "    json.dump(data_dict, out, indent=2, ensure_ascii=False)"
   ]
  },
  {
   "cell_type": "code",
   "execution_count": 7,
   "id": "71f7e422-4337-40b3-9b09-fdf4d5a91afd",
   "metadata": {
    "tags": []
   },
   "outputs": [],
   "source": [
    "# Each subset of each corpus is a list of tuples where each tuple\n",
    "# is a list of tokens with a corresponding list of labels.\n",
    "\n",
    "# Train on data_dict['en_ewt']['train']; validate on data_dict['en_ewt']['dev']\n",
    "# and test on data_dict['en_ewt']['test'] and data_dict['en_pud']['test']\n",
    "#data_dict['en_ewt']['train'][0], data_dict['en_pud']['test'][1]"
   ]
  },
  {
   "cell_type": "code",
   "execution_count": 8,
   "id": "c2c62810-4b0e-4cee-83ee-f8e3d55dc901",
   "metadata": {
    "tags": []
   },
   "outputs": [
    {
     "data": {
      "text/plain": [
       "((['Iguazu', 'Falls'], ['B-LOC', 'I-LOC']),\n",
       " (['It',\n",
       "   'probably',\n",
       "   'gives',\n",
       "   'more',\n",
       "   'bang',\n",
       "   'for',\n",
       "   'the',\n",
       "   'buck',\n",
       "   'than',\n",
       "   'acquiring',\n",
       "   'a',\n",
       "   'private',\n",
       "   'company',\n",
       "   'and',\n",
       "   'having',\n",
       "   'to',\n",
       "   'handle',\n",
       "   'the',\n",
       "   'inevitable',\n",
       "   'culture',\n",
       "   'clashes',\n",
       "   'and',\n",
       "   'process',\n",
       "   'mis-matches',\n",
       "   '.'],\n",
       "  ['O',\n",
       "   'O',\n",
       "   'O',\n",
       "   'O',\n",
       "   'O',\n",
       "   'O',\n",
       "   'O',\n",
       "   'O',\n",
       "   'O',\n",
       "   'O',\n",
       "   'O',\n",
       "   'O',\n",
       "   'O',\n",
       "   'O',\n",
       "   'O',\n",
       "   'O',\n",
       "   'O',\n",
       "   'O',\n",
       "   'O',\n",
       "   'O',\n",
       "   'O',\n",
       "   'O',\n",
       "   'O',\n",
       "   'O',\n",
       "   'O']),\n",
       " (['Most',\n",
       "   'Shiites',\n",
       "   ',',\n",
       "   'however',\n",
       "   ',',\n",
       "   'are',\n",
       "   'still',\n",
       "   'reluctant',\n",
       "   'to',\n",
       "   'take',\n",
       "   'major',\n",
       "   'risks',\n",
       "   'to',\n",
       "   'support',\n",
       "   'the',\n",
       "   'Sunnis',\n",
       "   'of',\n",
       "   'Fallujah',\n",
       "   ',',\n",
       "   'many',\n",
       "   'of',\n",
       "   'whom',\n",
       "   'had',\n",
       "   'supported',\n",
       "   'Saddam',\n",
       "   'and',\n",
       "   'his',\n",
       "   'anti-Shiite',\n",
       "   'pogroms',\n",
       "   '.'],\n",
       "  ['O',\n",
       "   'O',\n",
       "   'O',\n",
       "   'O',\n",
       "   'O',\n",
       "   'O',\n",
       "   'O',\n",
       "   'O',\n",
       "   'O',\n",
       "   'O',\n",
       "   'O',\n",
       "   'O',\n",
       "   'O',\n",
       "   'O',\n",
       "   'O',\n",
       "   'O',\n",
       "   'O',\n",
       "   'B-LOC',\n",
       "   'O',\n",
       "   'O',\n",
       "   'O',\n",
       "   'O',\n",
       "   'O',\n",
       "   'O',\n",
       "   'B-PER',\n",
       "   'O',\n",
       "   'O',\n",
       "   'O',\n",
       "   'O',\n",
       "   'O']),\n",
       " (['On',\n",
       "   'the',\n",
       "   '1st',\n",
       "   'January',\n",
       "   '49',\n",
       "   'BC',\n",
       "   ',',\n",
       "   'Marco',\n",
       "   'Antonio',\n",
       "   'read',\n",
       "   'a',\n",
       "   'declaration',\n",
       "   'from',\n",
       "   'Caesar',\n",
       "   'in',\n",
       "   'which',\n",
       "   'the',\n",
       "   'proconsul',\n",
       "   'declared',\n",
       "   'himself',\n",
       "   'a',\n",
       "   'friend',\n",
       "   'of',\n",
       "   'peace',\n",
       "   '.'],\n",
       "  ['O',\n",
       "   'O',\n",
       "   'O',\n",
       "   'O',\n",
       "   'O',\n",
       "   'O',\n",
       "   'O',\n",
       "   'B-PER',\n",
       "   'I-PER',\n",
       "   'O',\n",
       "   'O',\n",
       "   'O',\n",
       "   'O',\n",
       "   'B-PER',\n",
       "   'O',\n",
       "   'O',\n",
       "   'O',\n",
       "   'O',\n",
       "   'O',\n",
       "   'O',\n",
       "   'O',\n",
       "   'O',\n",
       "   'O',\n",
       "   'O',\n",
       "   'O']))"
      ]
     },
     "execution_count": 8,
     "metadata": {},
     "output_type": "execute_result"
    }
   ],
   "source": [
    "data_dict['en_ewt']['train'][1], data_dict['en_ewt']['dev'][-1], data_dict['en_ewt']['test'][-1],data_dict['en_pud']['test'][-1]"
   ]
  },
  {
   "cell_type": "code",
   "execution_count": null,
   "id": "42abb774-a97a-41ce-b69b-05673bca3d70",
   "metadata": {},
   "outputs": [],
   "source": []
  }
 ],
 "metadata": {
  "kernelspec": {
   "display_name": "Python 3 (ipykernel)",
   "language": "python",
   "name": "python3"
  },
  "language_info": {
   "codemirror_mode": {
    "name": "ipython",
    "version": 3
   },
   "file_extension": ".py",
   "mimetype": "text/x-python",
   "name": "python",
   "nbconvert_exporter": "python",
   "pygments_lexer": "ipython3",
   "version": "3.11.5"
  }
 },
 "nbformat": 4,
 "nbformat_minor": 5
}
