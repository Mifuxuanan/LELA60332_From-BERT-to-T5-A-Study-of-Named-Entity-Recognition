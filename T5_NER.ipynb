{
 "cells": [
  {
   "cell_type": "markdown",
   "id": "00a50d2e-9b1d-4468-836d-f947281aa1a9",
   "metadata": {},
   "source": [
    "# 0. T5_NER_Catalogue"
   ]
  },
  {
   "cell_type": "markdown",
   "id": "fddbad65-c4a3-4bb7-97e4-7b8527f2b6c6",
   "metadata": {},
   "source": [
    "**1. Setup**\n",
    "- 1.1 Library\n",
    "- 1.2 Dataset\n",
    "- 1.3 Preprocessing\n",
    "\n",
    "**2. Model**\n",
    "- 2.1 Train & Validate Function\n",
    "- 2.2 Evaluation\n",
    "\n",
    "**3. Main Experiments**\n",
    "- 3.1 Train & Validate\n",
    "- -(Full tags: lr=10*(-4), batch_size=32 -> TL1_2, DL1_2, DA1_2, DF1_2)\n",
    "- -(Simple tags: lr=10*(-4), batch_size=32 -> TL2_1, DL2_1, DA2_1, DF2_1)\n",
    "- 3.2 Test & OOD "
   ]
  },
  {
   "cell_type": "markdown",
   "id": "264b31ba-334b-4a45-971a-5cfba06fa8a5",
   "metadata": {},
   "source": [
    "# 1. Setup"
   ]
  },
  {
   "cell_type": "markdown",
   "id": "dbf3538b-ddb0-4e53-ae67-ce67c3b11ecd",
   "metadata": {},
   "source": [
    "## 1-1. Library "
   ]
  },
  {
   "cell_type": "code",
   "execution_count": 2,
   "id": "c4ceb51b-d863-47e4-80a7-da06b722a4b6",
   "metadata": {
    "tags": []
   },
   "outputs": [],
   "source": [
    "from random import shuffle\n",
    "\n",
    "import torch\n",
    "import torch.nn as nn\n",
    "import torch.nn.functional as F\n",
    "\n",
    "from transformers import AutoModel, AutoTokenizer\n",
    "from transformers import AutoModelForSeq2SeqLM\n",
    "from transformers import T5ForConditionalGeneration\n",
    "import datasets\n",
    "\n",
    "from tqdm.auto import tqdm"
   ]
  },
  {
   "cell_type": "code",
   "execution_count": 3,
   "id": "af1d774f-004c-401c-a746-a9b7e7283313",
   "metadata": {
    "tags": []
   },
   "outputs": [],
   "source": [
    "import random\n",
    "import numpy as np\n",
    "\n",
    "random.seed(42)\n",
    "np.random.seed(42)\n",
    "torch.manual_seed(42)\n",
    "torch.cuda.manual_seed_all(42)"
   ]
  },
  {
   "cell_type": "code",
   "execution_count": 4,
   "id": "b6ce9e1b-54b4-4760-903c-b3fab415a9c6",
   "metadata": {
    "tags": []
   },
   "outputs": [],
   "source": [
    "from collections import defaultdict, Counter\n",
    "from urllib import request\n",
    "import json\n",
    "import pandas as pd"
   ]
  },
  {
   "cell_type": "code",
   "execution_count": 5,
   "id": "d1129a78-b7e7-4314-a351-914b4cb9651e",
   "metadata": {
    "tags": []
   },
   "outputs": [],
   "source": [
    "import os\n",
    "import matplotlib.pyplot as plt\n",
    "from glob import glob\n",
    "from math import floor, ceil, log10"
   ]
  },
  {
   "cell_type": "markdown",
   "id": "1e4d9f99-280d-48ee-8992-afbb8a69d326",
   "metadata": {},
   "source": [
    "## 1-2. Dataset"
   ]
  },
  {
   "cell_type": "code",
   "execution_count": 6,
   "id": "587bc396-c905-4d3f-bc50-881a96b16341",
   "metadata": {
    "tags": []
   },
   "outputs": [],
   "source": [
    "# \"json.load\" will turn all tuples into list\n",
    "with open('ner_data_dict.json', 'r', encoding='utf-8') as f:\n",
    "    data_dict = json.load(f)"
   ]
  },
  {
   "cell_type": "code",
   "execution_count": 7,
   "id": "df3d7335-1d8f-48c2-89b3-86d58364c86d",
   "metadata": {
    "tags": []
   },
   "outputs": [],
   "source": [
    "# Each subset of each corpus is a list of tuples where each tuple\n",
    "# is a list of tokens with a corresponding list of labels.\n",
    "\n",
    "# Train on data_dict['en_ewt']['train']; validate on data_dict['en_ewt']['dev']\n",
    "# and test on data_dict['en_ewt']['test'] and data_dict['en_pud']['test']\n",
    "Train = data_dict['en_ewt']['train']\n",
    "Validate = data_dict['en_ewt']['dev']\n",
    "Test = data_dict['en_ewt']['test']\n",
    "OOD = data_dict['en_pud']['test']"
   ]
  },
  {
   "cell_type": "code",
   "execution_count": 8,
   "id": "cd89a6d6-879e-4ea8-83bd-b8deced4af9c",
   "metadata": {
    "tags": []
   },
   "outputs": [],
   "source": [
    "def simplify_tag(dataset):\n",
    "    # Simplify the 7 types of tags to B/I/O tags \n",
    "    simple = []\n",
    "    def simplify(full_tag):\n",
    "        ## Simplify the single full_tag\n",
    "        if full_tag == \"O\":\n",
    "            return \"O\"\n",
    "        return full_tag.split(\"-\", 1)[0] ## \"B-LOC\" -> \"B\"\n",
    "    \n",
    "    ## Extract and simplify the tag sequence \n",
    "    for sentence, tag in dataset:\n",
    "        simple_tag = [simplify(t) for t in tag]\n",
    "        simple.append([sentence, simple_tag])\n",
    "    \n",
    "    return simple"
   ]
  },
  {
   "cell_type": "code",
   "execution_count": 9,
   "id": "fb81c559-3988-40d2-a3e7-7f90cec05348",
   "metadata": {
    "tags": []
   },
   "outputs": [],
   "source": [
    "Simple_Train = simplify_tag(Train)\n",
    "Simple_Validate = simplify_tag(Validate)\n",
    "Simple_Test = simplify_tag(Test)\n",
    "Simple_OOD = simplify_tag(OOD)"
   ]
  },
  {
   "cell_type": "code",
   "execution_count": 10,
   "id": "637d2b9a-8969-4485-8496-b7a07d01e9a4",
   "metadata": {
    "tags": []
   },
   "outputs": [],
   "source": [
    "def tag_info(dataset):\n",
    "    tags = set()\n",
    "    for sent in dataset:\n",
    "        # Extract the tags\n",
    "        tags.update([tag for tag in sent[1]])\n",
    "        num_class = len(tags)\n",
    "    return tags, num_class"
   ]
  },
  {
   "cell_type": "code",
   "execution_count": 11,
   "id": "4516bb65-2eb5-42b4-9e22-292b100acac5",
   "metadata": {
    "tags": []
   },
   "outputs": [],
   "source": [
    "tag_set, num_class = tag_info(Train)\n",
    "simple_tag_set, simple_class = tag_info(Simple_Train)"
   ]
  },
  {
   "cell_type": "code",
   "execution_count": 12,
   "id": "0ae50054-768c-43f9-9753-a9739a62d120",
   "metadata": {
    "tags": []
   },
   "outputs": [],
   "source": [
    "tag_to_i = {\n",
    "    tag: i\n",
    "    for i, tag in enumerate(sorted(tag_set))\n",
    "}\n",
    "i_to_tag = {\n",
    "    i: tag\n",
    "    for tag, i in tag_to_i.items()\n",
    "}"
   ]
  },
  {
   "cell_type": "code",
   "execution_count": 13,
   "id": "11085dc8-dff9-4b35-8c70-893395c58eee",
   "metadata": {
    "tags": []
   },
   "outputs": [],
   "source": [
    "simple_tag_to_i = {\n",
    "    tag: i\n",
    "    for i, tag in enumerate(sorted(simple_tag_set))\n",
    "}\n",
    "i_to_simple_tag = {\n",
    "    i: tag\n",
    "    for tag, i in simple_tag_to_i.items()\n",
    "}"
   ]
  },
  {
   "cell_type": "markdown",
   "id": "b59f6c4b-59d5-4d24-975a-af72756bd53d",
   "metadata": {},
   "source": [
    "## 1-3. Preprocessing"
   ]
  },
  {
   "cell_type": "code",
   "execution_count": 14,
   "id": "bad08a9b-51ee-4fe2-a4e6-e54d2d326f9e",
   "metadata": {
    "tags": []
   },
   "outputs": [],
   "source": [
    "def extract_spans(tags):\n",
    "    spans = []\n",
    "    current = None  # Store the current span\n",
    "\n",
    "    for idx, tag in enumerate(tags):\n",
    "        # 1. Exclude \"O\"\n",
    "        if tag == \"O\":\n",
    "            if current:\n",
    "                spans.append([current[0], current[1], current[2]]) ## add the whole span to the list\n",
    "                current = None ## Clear the current span \n",
    "        else:\n",
    "            # 1. Split the tag to distinguish full types from simple types\n",
    "            if \"-\" in tag:\n",
    "                prefix, label = tag.split(\"-\", 1)\n",
    "            else:\n",
    "                prefix, label = tag, None\n",
    "            # 2. Process different tags    \n",
    "            if prefix == \"B\":\n",
    "                if current:  \n",
    "                    spans.append([current[0], current[1], current[2]]) ## Save the last span\n",
    "                current = [idx, idx, tag]  ## Start a new span: [start, end, tag]\n",
    "            elif prefix == \"I\":\n",
    "                if current:\n",
    "                    current[1] = idx ## Update the end_idx\n",
    "                else:\n",
    "                    if current:\n",
    "                        spans.append([current[0], current[1], current[2]])\n",
    "                    current = None\n",
    "    \n",
    "    # Check the last tag after the loop ends\n",
    "    if current:\n",
    "        spans.append([current[0], current[1], current[2]])\n",
    "    \n",
    "    return spans"
   ]
  },
  {
   "cell_type": "code",
   "execution_count": 15,
   "id": "fc4de694-4085-40de-80f0-91533648a9d7",
   "metadata": {
    "tags": []
   },
   "outputs": [],
   "source": [
    "def span_dataset(dataset):\n",
    "    spans = []\n",
    "    for sent in dataset:\n",
    "        current_span = extract_spans(sent[1])\n",
    "        spans.append(current_span)\n",
    "    return spans"
   ]
  },
  {
   "cell_type": "code",
   "execution_count": 16,
   "id": "e9db3d6c-3490-4a41-bf35-cd641845fd2b",
   "metadata": {},
   "outputs": [],
   "source": [
    "Span_Validate = span_dataset(Validate)\n",
    "Span_Test = span_dataset(Test)\n",
    "Span_OOD = span_dataset(OOD)"
   ]
  },
  {
   "cell_type": "code",
   "execution_count": 17,
   "id": "5e944a72-7a98-4018-9a24-a035ef5bb899",
   "metadata": {
    "tags": []
   },
   "outputs": [],
   "source": [
    "def Prepare_F1score(pred_spans, gold_spans, labelled=True):\n",
    "    TP = FP = FN = 0\n",
    "    \n",
    "    for p_spans, g_spans in zip(pred_spans, gold_spans):\n",
    "        if labelled:\n",
    "            pred = [tuple(s) for s in p_spans]\n",
    "            gold = [tuple(s) for s in g_spans]\n",
    "        else:\n",
    "            pred = [(start, end) for (start, end, _) in p_spans]\n",
    "            gold = [(start, end) for (start, end, _) in g_spans]\n",
    "\n",
    "        # Copy a gold_spans\n",
    "        gold_copy = gold.copy()\n",
    "\n",
    "\n",
    "        for span in pred:\n",
    "            if span in gold_copy:\n",
    "                TP += 1\n",
    "                gold_copy.remove(span)\n",
    "            else:\n",
    "                FP += 1\n",
    "        FN += len(gold_copy)\n",
    "        \n",
    "    return TP, FP, FN"
   ]
  },
  {
   "cell_type": "markdown",
   "id": "3edd7e54-2234-4e37-a87e-1e65cf9fc795",
   "metadata": {},
   "source": [
    "# 2. Model"
   ]
  },
  {
   "cell_type": "markdown",
   "id": "3124cd0b-438b-4d17-805e-8c2625fe2f45",
   "metadata": {},
   "source": [
    "## 2-1. Train & Validate Function"
   ]
  },
  {
   "cell_type": "code",
   "execution_count": 18,
   "id": "24d3cb70-5968-4b32-a7f0-ece5dc9dc8c4",
   "metadata": {
    "tags": []
   },
   "outputs": [],
   "source": [
    "def process_batch_T5(batch_inputs, batch_labels,\n",
    "                  tokeniser, model, device,\n",
    "                  optimiser, max_len=256):\n",
    "    # Exactly the same code as before.\n",
    "    optimiser.zero_grad()\n",
    "    tokenisation = tokeniser(\n",
    "        batch_inputs,\n",
    "        return_tensors='pt',\n",
    "        max_length=max_len,\n",
    "        padding='longest',\n",
    "        truncation=True\n",
    "    )\n",
    "    input_ids = tokenisation.input_ids.to(device)\n",
    "    attention_mask = tokenisation.attention_mask.to(device)\n",
    "    labels = tokeniser(\n",
    "        batch_labels,\n",
    "        return_tensors='pt',\n",
    "        max_length=max_len,\n",
    "        padding='longest',\n",
    "        truncation=True\n",
    "    ).input_ids.to(device)\n",
    "    # Stop the model from generating pad tokens\n",
    "    labels[labels == tokeniser.pad_token_id] = -100\n",
    "    inputs = {\n",
    "        'input_ids': input_ids,\n",
    "        'attention_mask': attention_mask,\n",
    "        'labels': labels\n",
    "    }\n",
    "    loss = model(**inputs).loss\n",
    "    loss.backward()\n",
    "    optimiser.step()\n",
    "    return loss.item()"
   ]
  },
  {
   "cell_type": "code",
   "execution_count": 19,
   "id": "c4d12a3f-4b1a-434e-a596-dd113349a071",
   "metadata": {
    "tags": []
   },
   "outputs": [],
   "source": [
    "def prepare_T5(sentence_pair):\n",
    "    words, labels = sentence_pair\n",
    "    prompt = (\"Sentence:\\n\" +\n",
    "              \" \".join(words) + \"\\n\" +\n",
    "              \"Tags:\")\n",
    "    # prompt = f\"Sentence: {' '.join(words)}\\nLabel tokens:\"\n",
    "    # prompt = \"NER: \" + ' '.join(words) \n",
    "    # prompt = f\"Sentence: {' '.join(words)} [SEP] label each token with its entity type:\"\n",
    "    label = ' '.join(labels)\n",
    "    return prompt, label"
   ]
  },
  {
   "cell_type": "code",
   "execution_count": 20,
   "id": "9de5e82c-1ae5-47cd-b8ce-3a9070e50008",
   "metadata": {
    "tags": []
   },
   "outputs": [],
   "source": [
    "few_shot = [([\"Dmitry\", \"went\", \"to\", \"Moscow\", \".\"], [\"B-PER\", \"O\", \"O\", \"B-LOC\", \"O\"]),\n",
    "    ([\"Colin\",   \"has\", \"a\", \"dog\", \".\"], [\"B-PER\", \"O\",  \"O\",  \"O\",  \"O\"])]"
   ]
  },
  {
   "cell_type": "code",
   "execution_count": 21,
   "id": "975f33d2-8d08-4e7b-b5ac-5e1e8b1433dc",
   "metadata": {
    "tags": []
   },
   "outputs": [],
   "source": [
    "def prepare_T5_fewshot(sentence_pair):\n",
    "    words, labels = sentence_pair\n",
    "\n",
    "    shot_lines = []\n",
    "    for ex_words, ex_labels in few_shot:\n",
    "        shot_lines.append(\"Sentence:\")\n",
    "        shot_lines.append(\" \".join(ex_words))\n",
    "        shot_lines.append(\"Tags: \" + \" \".join(ex_labels))\n",
    "        shot_lines.append(\"\") \n",
    "\n",
    "    shot_lines.append(\"Sentence:\")\n",
    "    shot_lines.append(\" \".join(words))\n",
    "    shot_lines.append(\"Tags:\")  \n",
    "\n",
    "    prompt = \"\\n\".join(shot_lines)\n",
    "    label  = \" \".join(labels)   \n",
    "\n",
    "    return prompt, label"
   ]
  },
  {
   "cell_type": "code",
   "execution_count": 22,
   "id": "1c44ea93-3905-4c1f-ad5a-603a6ddebd54",
   "metadata": {
    "tags": []
   },
   "outputs": [],
   "source": [
    "def train_epoch_T5(train_inputs, batch_size,\n",
    "                   tokeniser, model, device, optimizer):\n",
    "    model.train()\n",
    "    \n",
    "    n_steps = ceil(len(train_inputs) / batch_size)\n",
    "    epoch_losses = torch.zeros(n_steps)\n",
    "    for step_n in tqdm(range(n_steps), leave=False, desc='Train'):\n",
    "        lo = step_n * batch_size\n",
    "        hi = lo + batch_size\n",
    "        batch_inputs = train_inputs[lo:hi]\n",
    "        \n",
    "        batch_texts, batch_labels = zip(*(prepare_T5_fewshot(ex) for ex in batch_inputs))\n",
    "        loss = process_batch_T5(list(batch_texts), list(batch_labels),\n",
    "                                tokeniser, model, device, optimizer)\n",
    "        epoch_losses[step_n] = loss\n",
    "    return epoch_losses.mean().item()"
   ]
  },
  {
   "cell_type": "code",
   "execution_count": 23,
   "id": "b9cecddb-c18f-442d-8b99-19fddcbdd4de",
   "metadata": {
    "tags": []
   },
   "outputs": [],
   "source": [
    "# def compare_loss(prompt, tokeniser, model, device, \n",
    "#                          candidate_class, max_len=512):\n",
    "#     tokenisation = tokeniser(\n",
    "#         prompt,\n",
    "#         return_tensors='pt',\n",
    "#         max_length=max_len,\n",
    "#         truncation=True\n",
    "#     )\n",
    "#     input_ids = tokenisation.input_ids.to(device)\n",
    "#     attention_mask = tokenisation.attention_mask.to(device)\n",
    "#     loss_ls=[]\n",
    "#     # Contrast likelihoods of possible labels\n",
    "#     with torch.no_grad():\n",
    "#         for i in candidate_class:\n",
    "#             label_ids = tokeniser(i, return_tensors='pt').input_ids.to(device)\n",
    "#             loss = model(input_ids=input_ids, attention_mask=attention_mask,\n",
    "#                         labels=label_ids).loss.item()\n",
    "#             loss_ls.append(loss)\n",
    "#     best_idx = loss_ls.index(min(loss_ls))\n",
    "#     return candidate_class[best_idx]"
   ]
  },
  {
   "cell_type": "code",
   "execution_count": 24,
   "id": "a25ee2be-66d9-4d28-aa50-b93e1fbae4e5",
   "metadata": {
    "tags": []
   },
   "outputs": [],
   "source": [
    "# def get_likelihood(prompts, labels, tokeniser, model, device, max_len=256):\n",
    "#     enc = tokeniser(\n",
    "#         prompts,\n",
    "#         return_tensors='pt',\n",
    "#         max_length=max_len,\n",
    "#         padding=\"longest\",\n",
    "#         truncation=True\n",
    "#     ).to(device)\n",
    "    \n",
    "#     dec = tokeniser(\n",
    "#         labels,\n",
    "#         return_tensors=\"pt\",\n",
    "#         padding=\"longest\",\n",
    "#         truncation=True,\n",
    "#         max_length=max_len\n",
    "#     ).to(device)\n",
    "    \n",
    "#     outputs = model(input_ids=enc.input_ids,\n",
    "#                    attention_mask=enc.attention_mask,\n",
    "#                    labels=dec.input_ids)\n",
    "    \n",
    "#     logits = outputs.logits # [batch, seq_len, vocab_size]\n",
    "#     # pred_logprobs = F.log_softmax(logits, dim=-1)\n",
    "#     pred_ids = logits.argmax(dim=-1).cpu().tolist() # [batch, seq_len]\n",
    "\n",
    "#     return logits, pred_ids"
   ]
  },
  {
   "cell_type": "code",
   "execution_count": 25,
   "id": "361f7afa-ddfe-4c7e-bea5-96df85e96997",
   "metadata": {
    "tags": []
   },
   "outputs": [],
   "source": [
    "def generate_prediction(prompts, tokeniser, model, device, max_len=256):\n",
    "    enc = tokeniser(\n",
    "        prompts,\n",
    "        return_tensors='pt',\n",
    "        max_length=max_len,\n",
    "        padding=\"longest\",\n",
    "        truncation=True\n",
    "    )\n",
    "    input_ids = enc.input_ids.to(device)\n",
    "    attention_mask = enc.attention_mask.to(device)\n",
    "    \n",
    "    pred_ids = model.generate(\n",
    "            input_ids=input_ids,\n",
    "            attention_mask=attention_mask,\n",
    "            max_length=max_len,\n",
    "            num_beams=3,\n",
    "            early_stopping=True)\n",
    "    \n",
    "    return pred_ids"
   ]
  },
  {
   "cell_type": "code",
   "execution_count": 26,
   "id": "807701f0-9e27-462a-9c95-c887a7e26e2b",
   "metadata": {
    "tags": []
   },
   "outputs": [],
   "source": [
    "def validate_epoch_T5(dev_inputs, batch_size,\n",
    "                       tokeniser, model, device, max_len=256):\n",
    "    model.eval()\n",
    "    all_TP =  all_FP = all_FN = 0\n",
    "    \n",
    "    n_steps = ceil(len(dev_inputs) / batch_size)\n",
    "    for step_n in tqdm(range(n_steps), leave=False, desc='Validate'):\n",
    "        # The preprocessing described above\n",
    "        lo = step_n * batch_size\n",
    "        hi = lo + batch_size\n",
    "        batch_inputs = dev_inputs[lo:hi] \n",
    "        batch_texts, batch_labels = zip(*(prepare_T5_fewshot(ex) for ex in batch_inputs))\n",
    "        \n",
    "        with torch.no_grad():\n",
    "            # logits, pred_ids = get_likelihood(batch_texts, batch_labels, \n",
    "            #                                   tokeniser, model, device, max_len=512)\n",
    "            pred_ids = generate_prediction(batch_texts, tokeniser, model, device, max_len=256)\n",
    "            pred_texts = tokeniser.batch_decode(pred_ids, skip_special_tokens=True)\n",
    "            pred_tags = [text.split() for text in pred_texts]\n",
    "            \n",
    "            # if step_n == 0:\n",
    "            #     print(\"pred tags\", pred_tags[0])\n",
    "            \n",
    "            pred_spans = [extract_spans(tags) for tags in pred_tags]\n",
    "            gold_spans = [extract_spans(tag_str.split()) for tag_str in batch_labels]\n",
    "            \n",
    "            # if step_n == 0:\n",
    "            #     print(\"gold spans\", gold_spans[0])\n",
    "            #     print(\"pred spans\", pred_spans[0])\n",
    "                \n",
    "            TP, FP, FN = Prepare_F1score(pred_spans, gold_spans, labelled=True)\n",
    "            # print(\"Batch TP/FP/FN\", TP, FP, FN)\n",
    "            all_TP += TP\n",
    "            all_FP += FP\n",
    "            all_FN += FN\n",
    "            \n",
    "    Precision = all_TP / (all_TP + all_FP) if (all_TP + all_FP) > 0 else 0.0\n",
    "    Recall = all_TP / (all_TP + all_FN) if (all_TP + all_FN) > 0 else 0.0\n",
    "    F1 = (2 * Precision * Recall / (Precision + Recall)) if (Precision + Recall) > 0 else 0.0\n",
    "    \n",
    "    return Precision, Recall, F1"
   ]
  },
  {
   "cell_type": "code",
   "execution_count": 27,
   "id": "f4e196d2-5a1c-4e79-913f-7c59d8271a77",
   "metadata": {},
   "outputs": [],
   "source": [
    "def main_T5(train_data, dev_data,\n",
    "            tokeniser, model, device, n_epochs, \n",
    "            lr, early_stop, batch_size): # , candidate_class\n",
    "    \n",
    "    optim = torch.optim.AdamW(list(model.parameters()), lr=lr)\n",
    "    \n",
    "    lr_string = abs(int(log10(lr)))\n",
    "    \n",
    "    best_F1 = 0.0\n",
    "    last_improvement = 0\n",
    "    train_losses = []\n",
    "    dev_Precision = []\n",
    "    dev_Recall = []\n",
    "    dev_F1 = []\n",
    "    \n",
    "    for epoch in tqdm(range(n_epochs)):\n",
    "        \n",
    "        train_loss = train_epoch_T5(train_data, batch_size,\n",
    "                                    tokeniser, model, device, optim)\n",
    "        train_losses.append(train_loss)\n",
    "        \n",
    "        P, R, F1 = validate_epoch_T5(dev_data, batch_size,\n",
    "                                     tokeniser, model, device, max_len=256)\n",
    "        \n",
    "        dev_Precision.append(P)\n",
    "        dev_Recall.append(R)\n",
    "        dev_F1.append(F1)\n",
    "\n",
    "        print(f'Epoch {epoch:2d}, train loss: {train_loss:.3f}; dev F1: {F1:.3f}; dev Precision: {P:.3f}, dev Recall: {R:.3f}')\n",
    "        \n",
    "        if F1 > best_F1:\n",
    "            print('Saving the model')\n",
    "            best_F1 = F1\n",
    "            last_improvement = epoch\n",
    "\n",
    "            # for path in glob('*.pt'):\n",
    "            #     os.remove(path)\n",
    "            # torch.save({'model': model.state_dict()},\n",
    "            #            f'T5_Full_epoch{epoch:02d}_{lr_string}.pt')\n",
    "            torch.save({'model': model.state_dict()},\n",
    "                       f'T5_Simple_epoch{epoch:02d}_{lr_string}.pt')\n",
    "        else:\n",
    "            if epoch - last_improvement >= early_stop:\n",
    "                print(f'Early stopping: no improvement for {early_stop} epochs.')\n",
    "                break\n",
    "    \n",
    "    plt.plot(train_losses, label='Train Loss')\n",
    "    plt.xlabel(\"Epochs\")\n",
    "    plt.ylabel(\"Loss\")\n",
    "    plt.legend()\n",
    "    plt.grid(True)\n",
    "    plt.show()\n",
    "    \n",
    "    plt.plot(dev_F1, label='Dev F1')\n",
    "    plt.plot(dev_Precision, label='Dev Precision')\n",
    "    plt.plot(dev_Recall, label='Dev Recall')\n",
    "    plt.xlabel(\"Epochs\")\n",
    "    plt.ylabel(\"Score\")\n",
    "    plt.legend()\n",
    "    plt.grid(True)\n",
    "    plt.show()\n",
    "    \n",
    "    return train_losses, dev_F1"
   ]
  },
  {
   "cell_type": "code",
   "execution_count": 28,
   "id": "17513fed-0ac5-4d52-8d62-c02fcf4d09ac",
   "metadata": {},
   "outputs": [],
   "source": [
    "# def validate_epoch_likelihood_T5(dev_inputs, batch_size,\n",
    "#                        tokeniser, model, device, max_len=256):\n",
    "#     model.eval()\n",
    "#     all_TP =  all_FP = all_FN = 0\n",
    "    \n",
    "#     n_steps = ceil(len(dev_inputs) / batch_size)\n",
    "#     for step_n in tqdm(range(n_steps), leave=False, desc='Validate'):\n",
    "#         # The preprocessing described above\n",
    "#         lo = step_n * batch_size\n",
    "#         hi = lo + batch_size\n",
    "#         batch_inputs = dev_inputs[lo:hi] \n",
    "#         batch_texts, batch_labels = zip(*(prepare_T5_fewshot(ex) for ex in batch_inputs))\n",
    "        \n",
    "#         with torch.no_grad():\n",
    "#             logits, pred_ids = get_likelihood(batch_texts, batch_labels, \n",
    "#                                               tokeniser, model, device, max_len=512)\n",
    "#             pred_texts = tokeniser.batch_decode(pred_ids, skip_special_tokens=True)\n",
    "#             pred_tags = [text.split() for text in pred_texts]\n",
    "            \n",
    "#             # if step_n == 0:\n",
    "#             #     print(\"pred tags\", pred_tags[0])\n",
    "            \n",
    "#             pred_spans = [extract_spans(tags) for tags in pred_tags]\n",
    "#             gold_spans = [extract_spans(tag_str.split()) for tag_str in batch_labels]\n",
    "            \n",
    "#             # if step_n == 0:\n",
    "#             #     print(\"gold spans\", gold_spans[0])\n",
    "#             #     print(\"pred spans\", pred_spans[0])\n",
    "                \n",
    "#             TP, FP, FN = Prepare_F1score(pred_spans, gold_spans, labelled=True)\n",
    "#             # print(\"Batch TP/FP/FN\", TP, FP, FN)\n",
    "#             all_TP += TP\n",
    "#             all_FP += FP\n",
    "#             all_FN += FN\n",
    "            \n",
    "#     Precision = all_TP / (all_TP + all_FP) if (all_TP + all_FP) > 0 else 0.0\n",
    "#     Recall = all_TP / (all_TP + all_FN) if (all_TP + all_FN) > 0 else 0.0\n",
    "#     F1 = (2 * Precision * Recall / (Precision + Recall)) if (Precision + Recall) > 0 else 0.0\n",
    "    \n",
    "#     return Precision, Recall, F1"
   ]
  },
  {
   "cell_type": "code",
   "execution_count": 29,
   "id": "d1546b77-1bd1-4634-8dad-7d28a54f627f",
   "metadata": {
    "tags": []
   },
   "outputs": [],
   "source": [
    "# def main_T5_likelihood(train_data, dev_data,\n",
    "#                         tokeniser, model, device, n_epochs, \n",
    "#                         lr, early_stop, batch_size): \n",
    "    \n",
    "#     optim = torch.optim.AdamW(list(model.parameters()), lr=lr)\n",
    "    \n",
    "#     lr_string = abs(int(log10(lr)))\n",
    "    \n",
    "#     best_F1 = 0.0\n",
    "#     last_improvement = 0\n",
    "#     train_losses = []\n",
    "#     dev_Precision = []\n",
    "#     dev_Recall = []\n",
    "#     dev_F1 = []\n",
    "    \n",
    "#     for epoch in tqdm(range(n_epochs)):\n",
    "        \n",
    "#         train_loss = train_epoch_T5(train_data, batch_size,\n",
    "#                                     tokeniser, model, device, optim)\n",
    "#         train_losses.append(train_loss)\n",
    "        \n",
    "#         P, R, F1 = validate_epoch_likelihood_T5(dev_data, batch_size,\n",
    "#                                      tokeniser, model, device, max_len=256)\n",
    "        \n",
    "#         dev_Precision.append(P)\n",
    "#         dev_Recall.append(R)\n",
    "#         dev_F1.append(F1)\n",
    "\n",
    "#         print(f'Epoch {epoch:2d}, train loss: {train_loss:.3f}; dev F1: {F1:.3f}; dev Precision: {P:.3f}, dev Recall: {R:.3f}')\n",
    "        \n",
    "#         if F1 > best_F1:\n",
    "#             print('Saving the model')\n",
    "#             best_F1 = F1\n",
    "#             last_improvement = epoch\n",
    "\n",
    "#             # for path in glob('*.pt'):\n",
    "#             #     os.remove(path)\n",
    "#             torch.save({'model': model.state_dict()},\n",
    "#                        f'T5_Full_liklihood_epoch{epoch:02d}_{lr_string}.pt')\n",
    "#         else:\n",
    "#             if epoch - last_improvement >= early_stop:\n",
    "#                 print(f'Early stopping: no improvement for {early_stop} epochs.')\n",
    "#                 break\n",
    "    \n",
    "#     plt.plot(train_losses, label='Train Loss')\n",
    "#     plt.xlabel(\"Epochs\")\n",
    "#     plt.ylabel(\"Loss\")\n",
    "#     plt.legend()\n",
    "#     plt.grid(True)\n",
    "#     plt.show()\n",
    "    \n",
    "#     plt.plot(dev_F1, label='Dev F1')\n",
    "#     plt.plot(dev_Precision, label='Dev Precision')\n",
    "#     plt.plot(dev_Recall, label='Dev Recall')\n",
    "#     plt.xlabel(\"Epochs\")\n",
    "#     plt.ylabel(\"Score\")\n",
    "#     plt.legend()\n",
    "#     plt.grid(True)\n",
    "#     plt.show()\n",
    "    \n",
    "#     return train_losses, dev_F1"
   ]
  },
  {
   "cell_type": "markdown",
   "id": "d1217fdd-d921-4ca8-8a4c-ebf6243c5d21",
   "metadata": {},
   "source": [
    "## 2-2. Evaluation"
   ]
  },
  {
   "cell_type": "code",
   "execution_count": 30,
   "id": "92c74e87-39dc-42b1-b16e-92153ca383d6",
   "metadata": {
    "tags": []
   },
   "outputs": [],
   "source": [
    "from seqeval.metrics import precision_score, recall_score, f1_score, classification_report"
   ]
  },
  {
   "cell_type": "code",
   "execution_count": 31,
   "id": "7f703f58-0d25-4271-885a-e1f928e31ce3",
   "metadata": {
    "tags": []
   },
   "outputs": [],
   "source": [
    "def evaluation_T5(test_inputs, tokeniser, model, device, tag_to_i, batch_size=32):\n",
    "    \n",
    "    model.eval()\n",
    "    all_preds, all_golds = [], []\n",
    "    all_pred_spans, all_gold_spans = [], []\n",
    "    \n",
    "    n_steps = ceil(len(test_inputs) / batch_size)\n",
    "    for step_n in tqdm(range(n_steps), leave=False, desc='Test'):\n",
    "        # The preprocessing described above\n",
    "        lo = step_n * batch_size\n",
    "        hi = lo + batch_size\n",
    "        batch_inputs = test_inputs[lo:hi] \n",
    "        batch_texts, batch_labels = zip(*(prepare_T5_fewshot(ex) for ex in batch_inputs))\n",
    "        gold_tags = [tags.split() for tags in batch_labels]\n",
    "        \n",
    "        with torch.no_grad():\n",
    "            pred_ids = generate_prediction(batch_texts, tokeniser, model, device, max_len=256)\n",
    "            pred_texts = tokeniser.batch_decode(pred_ids, skip_special_tokens=True)\n",
    "            pred_tags = [text.split() for text in pred_texts]\n",
    "            \n",
    "            class_type = set(tag_to_i.keys())\n",
    "            aligned_preds = []\n",
    "            for (pt, gt), (words, _) in zip(zip(pred_tags, gold_tags), batch_inputs):\n",
    "                seq_len = len(words)\n",
    "                if len(pt) > seq_len:\n",
    "                    pt = pt[:seq_len]\n",
    "                elif len(pt) < seq_len:\n",
    "                    pt = pt + [\"O\"]*(seq_len - len(pt))\n",
    "                pt = [t if t in class_type else \"O\" for t in pt]\n",
    "                aligned_preds.append(pt)\n",
    "            \n",
    "            all_preds.extend(aligned_preds)\n",
    "            all_golds.extend(gold_tags)\n",
    "            all_pred_spans.extend(extract_spans(tags) for tags in pred_tags)\n",
    "            all_gold_spans.extend(extract_spans(tags) for tags in gold_tags)\n",
    "\n",
    "    # Matching score = Recall = TP / (TP + FN) \n",
    "    ## (correctly matching gold spans)/(gold spans)\n",
    "    tp_l, fp_l, fn_l = Prepare_F1score(all_pred_spans, all_gold_spans, labelled=True)\n",
    "    tp_u, fp_u, fn_u = Prepare_F1score(all_pred_spans, all_gold_spans, labelled=False)\n",
    "\n",
    "    match_labelled   = tp_l / (tp_l + fn_l) if tp_l + fn_l else 0.0\n",
    "    match_unlabelled = tp_u / (tp_u + fn_u) if tp_u + fn_u else 0.0\n",
    "\n",
    "    metric_result = classification_report(all_golds, all_preds, output_dict=True, zero_division=0)\n",
    "    \n",
    "    # P/R/F1\n",
    "    types = [t for t in metric_result if t not in {\"micro avg\", \"macro avg\", \"weighted avg\"}]\n",
    "    each_tag = {t: {\"precision\": metric_result[t][\"precision\"],\n",
    "                    \"recall\": metric_result[t][\"recall\"],\n",
    "                    \"f1\": metric_result[t][\"f1-score\"],\n",
    "                    \"support\": metric_result[t][\"support\"]}\n",
    "                    for t in types}\n",
    "    # macro avg\n",
    "    macro_P = metric_result[\"macro avg\"][\"precision\"]\n",
    "    macro_R = metric_result[\"macro avg\"][\"recall\"]\n",
    "    macro_F1 = metric_result[\"macro avg\"][\"f1-score\"]\n",
    "\n",
    "    return {\"match_labelled\": match_labelled,\n",
    "            \"match_unlabelled\": match_unlabelled,\n",
    "            \"each_tag\": each_tag,\n",
    "            \"macro_P\": macro_P,\n",
    "            \"macro_R\": macro_R,\n",
    "            \"macro_F\": macro_F1}"
   ]
  },
  {
   "cell_type": "code",
   "execution_count": 32,
   "id": "ecee2d65-8017-4e9d-bfda-b7c954987fc7",
   "metadata": {
    "tags": []
   },
   "outputs": [],
   "source": [
    "def evaluation_Simple_T5(test_inputs, tokeniser, model, device, batch_size=32):\n",
    "    \n",
    "    model.eval()\n",
    "    all_preds, all_golds = [], []\n",
    "    all_pred_spans, all_gold_spans = [], []\n",
    "    \n",
    "    n_steps = ceil(len(test_inputs) / batch_size)\n",
    "    for step_n in tqdm(range(n_steps), leave=False, desc='Test'):\n",
    "        lo = step_n * batch_size\n",
    "        hi = lo + batch_size\n",
    "        batch_inputs = test_inputs[lo:hi] \n",
    "        batch_texts, batch_labels = zip(*(prepare_T5_fewshot(ex) for ex in batch_inputs))\n",
    "        gold_tags = [tags.split() for tags in batch_labels]\n",
    "        \n",
    "        with torch.no_grad():\n",
    "            pred_ids = generate_prediction(batch_texts, tokeniser, model, device, max_len=256)\n",
    "            pred_texts = tokeniser.batch_decode(pred_ids, skip_special_tokens=True)\n",
    "            pred_tags = [text.split() for text in pred_texts]\n",
    "            \n",
    "            aligned_preds = []\n",
    "            for (pt, gt), (words, _) in zip(zip(pred_tags, gold_tags), batch_inputs):\n",
    "                seq_len = len(words)\n",
    "                if len(pt) > seq_len:\n",
    "                    pt = pt[:seq_len]\n",
    "                elif len(pt) < seq_len:\n",
    "                    pt = pt + [\"O\"]*(seq_len - len(pt))\n",
    "                aligned_preds.append(pt)\n",
    "            \n",
    "            all_preds.extend(aligned_preds)\n",
    "            all_golds.extend(gold_tags)\n",
    "            all_pred_spans.extend(extract_spans(tags) for tags in pred_tags)\n",
    "            all_gold_spans.extend(extract_spans(tags) for tags in gold_tags)\n",
    "\n",
    "    # Matching score = Recall = TP / (TP + FN) \n",
    "    ## (correctly matching gold spans)/(gold spans)\n",
    "    tp_l, fp_l, fn_l = Prepare_F1score(all_pred_spans, all_gold_spans, labelled=True)\n",
    "    tp_u, fp_u, fn_u = Prepare_F1score(all_pred_spans, all_gold_spans, labelled=False)\n",
    "\n",
    "    match_labelled   = tp_l / (tp_l + fn_l) if tp_l + fn_l else 0.0\n",
    "    match_unlabelled = tp_u / (tp_u + fn_u) if tp_u + fn_u else 0.0\n",
    "\n",
    "    metric_result = classification_report(all_golds, all_preds, output_dict=True, zero_division=0)\n",
    "    \n",
    "    # P/R/F1\n",
    "    types = [t for t in metric_result if t not in {\"micro avg\", \"macro avg\", \"weighted avg\"}]\n",
    "    each_tag = {t: {\"precision\": metric_result[t][\"precision\"],\n",
    "                    \"recall\": metric_result[t][\"recall\"],\n",
    "                    \"f1\": metric_result[t][\"f1-score\"],\n",
    "                    \"support\": metric_result[t][\"support\"]}\n",
    "                    for t in types}\n",
    "    # macro avg\n",
    "    macro_P = metric_result[\"macro avg\"][\"precision\"]\n",
    "    macro_R = metric_result[\"macro avg\"][\"recall\"]\n",
    "    macro_F1 = metric_result[\"macro avg\"][\"f1-score\"]\n",
    "\n",
    "    return {\"match_labelled\": match_labelled,\n",
    "            \"match_unlabelled\": match_unlabelled,\n",
    "            \"each_tag\": each_tag,\n",
    "            \"macro_P\": macro_P,\n",
    "            \"macro_R\": macro_R,\n",
    "            \"macro_F\": macro_F1}"
   ]
  },
  {
   "cell_type": "code",
   "execution_count": 33,
   "id": "1c814f92-a48f-48fe-b188-d4161e1b8da5",
   "metadata": {
    "tags": []
   },
   "outputs": [],
   "source": [
    "def load_checkpoint_T5(path, device, model):\n",
    "    state = torch.load(path, map_location=device)\n",
    "    model.load_state_dict(state['model'])\n",
    "    model.eval()\n",
    "    return model"
   ]
  },
  {
   "cell_type": "markdown",
   "id": "9c9ff7e0-0c53-4dbf-afe2-3a8780a199ae",
   "metadata": {
    "tags": []
   },
   "source": [
    "# 3. Main Experiments"
   ]
  },
  {
   "cell_type": "code",
   "execution_count": 34,
   "id": "f6137244-f5d7-4b54-ae86-64aaf4fd8643",
   "metadata": {},
   "outputs": [],
   "source": [
    "model_tag = 'google-t5/t5-base'"
   ]
  },
  {
   "cell_type": "code",
   "execution_count": 35,
   "id": "8afd3730-7fba-4181-86bb-8ab365ee8847",
   "metadata": {
    "tags": []
   },
   "outputs": [
    {
     "data": {
      "application/vnd.jupyter.widget-view+json": {
       "model_id": "bb9c5e20a5e6468f974eea4b60e44f67",
       "version_major": 2,
       "version_minor": 0
      },
      "text/plain": [
       "config.json:   0%|          | 0.00/1.21k [00:00<?, ?B/s]"
      ]
     },
     "metadata": {},
     "output_type": "display_data"
    },
    {
     "name": "stderr",
     "output_type": "stream",
     "text": [
      "C:\\Users\\86138\\anaconda3\\lib\\site-packages\\huggingface_hub\\file_download.py:142: UserWarning: `huggingface_hub` cache-system uses symlinks by default to efficiently store duplicated files but your machine does not support them in C:\\Users\\86138\\Desktop\\Semester 2\\Final Assessment2\\CL2\\Main Experiment\\T5_NER\\hf_cache\\models--google-t5--t5-base. Caching files will still work but in a degraded version that might require more space on your disk. This warning can be disabled by setting the `HF_HUB_DISABLE_SYMLINKS_WARNING` environment variable. For more details, see https://huggingface.co/docs/huggingface_hub/how-to-cache#limitations.\n",
      "To support symlinks on Windows, you either need to activate Developer Mode or to run Python as an administrator. In order to activate developer mode, see this article: https://docs.microsoft.com/en-us/windows/apps/get-started/enable-your-device-for-development\n",
      "  warnings.warn(message)\n"
     ]
    },
    {
     "data": {
      "application/vnd.jupyter.widget-view+json": {
       "model_id": "eeab2393b5ea4277b4fc68c042220f0f",
       "version_major": 2,
       "version_minor": 0
      },
      "text/plain": [
       "model.safetensors:   0%|          | 0.00/892M [00:00<?, ?B/s]"
      ]
     },
     "metadata": {},
     "output_type": "display_data"
    },
    {
     "data": {
      "application/vnd.jupyter.widget-view+json": {
       "model_id": "8e48b2a94cd64835be548eb8aa693278",
       "version_major": 2,
       "version_minor": 0
      },
      "text/plain": [
       "generation_config.json:   0%|          | 0.00/147 [00:00<?, ?B/s]"
      ]
     },
     "metadata": {},
     "output_type": "display_data"
    }
   ],
   "source": [
    "device = 'cuda'\n",
    "model = AutoModelForSeq2SeqLM.from_pretrained(\n",
    "    model_tag, cache_dir='./hf_cache').to(device)\n",
    "tokeniser = AutoTokenizer.from_pretrained(model_tag)"
   ]
  },
  {
   "cell_type": "code",
   "execution_count": 36,
   "id": "a8db94b9-b7ac-4feb-a8a2-a20113b303bf",
   "metadata": {
    "tags": []
   },
   "outputs": [],
   "source": [
    "torch.cuda.empty_cache() "
   ]
  },
  {
   "cell_type": "markdown",
   "id": "83cd3cc4-928a-4ada-a9dc-0beda5662166",
   "metadata": {},
   "source": [
    "## 3-1. Train & Validate"
   ]
  },
  {
   "cell_type": "markdown",
   "id": "fcb9cdd5-133f-41a0-885e-072d6a80849b",
   "metadata": {},
   "source": [
    "### 3-1-1. Full tags "
   ]
  },
  {
   "cell_type": "code",
   "execution_count": 108,
   "id": "2a109768-efb9-444a-966a-a3215ddcb8a8",
   "metadata": {
    "tags": []
   },
   "outputs": [
    {
     "data": {
      "application/vnd.jupyter.widget-view+json": {
       "model_id": "a03f10281850492089e94b697a80f8ec",
       "version_major": 2,
       "version_minor": 0
      },
      "text/plain": [
       "  0%|          | 0/20 [00:00<?, ?it/s]"
      ]
     },
     "metadata": {},
     "output_type": "display_data"
    },
    {
     "data": {
      "application/vnd.jupyter.widget-view+json": {
       "model_id": "",
       "version_major": 2,
       "version_minor": 0
      },
      "text/plain": [
       "Train:   0%|          | 0/392 [00:00<?, ?it/s]"
      ]
     },
     "metadata": {},
     "output_type": "display_data"
    },
    {
     "data": {
      "application/vnd.jupyter.widget-view+json": {
       "model_id": "",
       "version_major": 2,
       "version_minor": 0
      },
      "text/plain": [
       "Validate:   0%|          | 0/63 [00:00<?, ?it/s]"
      ]
     },
     "metadata": {},
     "output_type": "display_data"
    },
    {
     "name": "stdout",
     "output_type": "stream",
     "text": [
      "Epoch  0, train loss: 0.350; dev F1: 0.018; dev Precision: 0.010, dev Recall: 0.068\n",
      "Saving the model\n"
     ]
    },
    {
     "data": {
      "application/vnd.jupyter.widget-view+json": {
       "model_id": "",
       "version_major": 2,
       "version_minor": 0
      },
      "text/plain": [
       "Train:   0%|          | 0/392 [00:00<?, ?it/s]"
      ]
     },
     "metadata": {},
     "output_type": "display_data"
    },
    {
     "data": {
      "application/vnd.jupyter.widget-view+json": {
       "model_id": "",
       "version_major": 2,
       "version_minor": 0
      },
      "text/plain": [
       "Validate:   0%|          | 0/63 [00:00<?, ?it/s]"
      ]
     },
     "metadata": {},
     "output_type": "display_data"
    },
    {
     "name": "stdout",
     "output_type": "stream",
     "text": [
      "Epoch  1, train loss: 0.219; dev F1: 0.074; dev Precision: 0.043, dev Recall: 0.240\n",
      "Saving the model\n"
     ]
    },
    {
     "data": {
      "application/vnd.jupyter.widget-view+json": {
       "model_id": "",
       "version_major": 2,
       "version_minor": 0
      },
      "text/plain": [
       "Train:   0%|          | 0/392 [00:00<?, ?it/s]"
      ]
     },
     "metadata": {},
     "output_type": "display_data"
    },
    {
     "data": {
      "application/vnd.jupyter.widget-view+json": {
       "model_id": "",
       "version_major": 2,
       "version_minor": 0
      },
      "text/plain": [
       "Validate:   0%|          | 0/63 [00:00<?, ?it/s]"
      ]
     },
     "metadata": {},
     "output_type": "display_data"
    },
    {
     "name": "stdout",
     "output_type": "stream",
     "text": [
      "Epoch  2, train loss: 0.164; dev F1: 0.120; dev Precision: 0.069, dev Recall: 0.454\n",
      "Saving the model\n"
     ]
    },
    {
     "data": {
      "application/vnd.jupyter.widget-view+json": {
       "model_id": "",
       "version_major": 2,
       "version_minor": 0
      },
      "text/plain": [
       "Train:   0%|          | 0/392 [00:00<?, ?it/s]"
      ]
     },
     "metadata": {},
     "output_type": "display_data"
    },
    {
     "data": {
      "application/vnd.jupyter.widget-view+json": {
       "model_id": "",
       "version_major": 2,
       "version_minor": 0
      },
      "text/plain": [
       "Validate:   0%|          | 0/63 [00:00<?, ?it/s]"
      ]
     },
     "metadata": {},
     "output_type": "display_data"
    },
    {
     "name": "stdout",
     "output_type": "stream",
     "text": [
      "Epoch  3, train loss: 0.131; dev F1: 0.165; dev Precision: 0.095, dev Recall: 0.648\n",
      "Saving the model\n"
     ]
    },
    {
     "data": {
      "application/vnd.jupyter.widget-view+json": {
       "model_id": "",
       "version_major": 2,
       "version_minor": 0
      },
      "text/plain": [
       "Train:   0%|          | 0/392 [00:00<?, ?it/s]"
      ]
     },
     "metadata": {},
     "output_type": "display_data"
    },
    {
     "data": {
      "application/vnd.jupyter.widget-view+json": {
       "model_id": "",
       "version_major": 2,
       "version_minor": 0
      },
      "text/plain": [
       "Validate:   0%|          | 0/63 [00:00<?, ?it/s]"
      ]
     },
     "metadata": {},
     "output_type": "display_data"
    },
    {
     "name": "stdout",
     "output_type": "stream",
     "text": [
      "Epoch  4, train loss: 0.104; dev F1: 0.150; dev Precision: 0.085, dev Recall: 0.605\n"
     ]
    },
    {
     "data": {
      "application/vnd.jupyter.widget-view+json": {
       "model_id": "",
       "version_major": 2,
       "version_minor": 0
      },
      "text/plain": [
       "Train:   0%|          | 0/392 [00:00<?, ?it/s]"
      ]
     },
     "metadata": {},
     "output_type": "display_data"
    },
    {
     "data": {
      "application/vnd.jupyter.widget-view+json": {
       "model_id": "",
       "version_major": 2,
       "version_minor": 0
      },
      "text/plain": [
       "Validate:   0%|          | 0/63 [00:00<?, ?it/s]"
      ]
     },
     "metadata": {},
     "output_type": "display_data"
    },
    {
     "name": "stdout",
     "output_type": "stream",
     "text": [
      "Epoch  5, train loss: 0.093; dev F1: 0.116; dev Precision: 0.067, dev Recall: 0.451\n"
     ]
    },
    {
     "data": {
      "application/vnd.jupyter.widget-view+json": {
       "model_id": "",
       "version_major": 2,
       "version_minor": 0
      },
      "text/plain": [
       "Train:   0%|          | 0/392 [00:00<?, ?it/s]"
      ]
     },
     "metadata": {},
     "output_type": "display_data"
    },
    {
     "data": {
      "application/vnd.jupyter.widget-view+json": {
       "model_id": "",
       "version_major": 2,
       "version_minor": 0
      },
      "text/plain": [
       "Validate:   0%|          | 0/63 [00:00<?, ?it/s]"
      ]
     },
     "metadata": {},
     "output_type": "display_data"
    },
    {
     "name": "stdout",
     "output_type": "stream",
     "text": [
      "Epoch  6, train loss: 0.083; dev F1: 0.137; dev Precision: 0.078, dev Recall: 0.566\n"
     ]
    },
    {
     "data": {
      "application/vnd.jupyter.widget-view+json": {
       "model_id": "",
       "version_major": 2,
       "version_minor": 0
      },
      "text/plain": [
       "Train:   0%|          | 0/392 [00:00<?, ?it/s]"
      ]
     },
     "metadata": {},
     "output_type": "display_data"
    },
    {
     "data": {
      "application/vnd.jupyter.widget-view+json": {
       "model_id": "",
       "version_major": 2,
       "version_minor": 0
      },
      "text/plain": [
       "Validate:   0%|          | 0/63 [00:00<?, ?it/s]"
      ]
     },
     "metadata": {},
     "output_type": "display_data"
    },
    {
     "name": "stdout",
     "output_type": "stream",
     "text": [
      "Epoch  7, train loss: 0.074; dev F1: 0.166; dev Precision: 0.094, dev Recall: 0.716\n",
      "Saving the model\n"
     ]
    },
    {
     "data": {
      "application/vnd.jupyter.widget-view+json": {
       "model_id": "",
       "version_major": 2,
       "version_minor": 0
      },
      "text/plain": [
       "Train:   0%|          | 0/392 [00:00<?, ?it/s]"
      ]
     },
     "metadata": {},
     "output_type": "display_data"
    },
    {
     "data": {
      "application/vnd.jupyter.widget-view+json": {
       "model_id": "",
       "version_major": 2,
       "version_minor": 0
      },
      "text/plain": [
       "Validate:   0%|          | 0/63 [00:00<?, ?it/s]"
      ]
     },
     "metadata": {},
     "output_type": "display_data"
    },
    {
     "name": "stdout",
     "output_type": "stream",
     "text": [
      "Epoch  8, train loss: 0.072; dev F1: 0.178; dev Precision: 0.101, dev Recall: 0.778\n",
      "Saving the model\n"
     ]
    },
    {
     "data": {
      "application/vnd.jupyter.widget-view+json": {
       "model_id": "",
       "version_major": 2,
       "version_minor": 0
      },
      "text/plain": [
       "Train:   0%|          | 0/392 [00:00<?, ?it/s]"
      ]
     },
     "metadata": {},
     "output_type": "display_data"
    },
    {
     "data": {
      "application/vnd.jupyter.widget-view+json": {
       "model_id": "",
       "version_major": 2,
       "version_minor": 0
      },
      "text/plain": [
       "Validate:   0%|          | 0/63 [00:00<?, ?it/s]"
      ]
     },
     "metadata": {},
     "output_type": "display_data"
    },
    {
     "name": "stdout",
     "output_type": "stream",
     "text": [
      "Epoch  9, train loss: 0.063; dev F1: 0.148; dev Precision: 0.084, dev Recall: 0.612\n"
     ]
    },
    {
     "data": {
      "application/vnd.jupyter.widget-view+json": {
       "model_id": "",
       "version_major": 2,
       "version_minor": 0
      },
      "text/plain": [
       "Train:   0%|          | 0/392 [00:00<?, ?it/s]"
      ]
     },
     "metadata": {},
     "output_type": "display_data"
    },
    {
     "data": {
      "application/vnd.jupyter.widget-view+json": {
       "model_id": "",
       "version_major": 2,
       "version_minor": 0
      },
      "text/plain": [
       "Validate:   0%|          | 0/63 [00:00<?, ?it/s]"
      ]
     },
     "metadata": {},
     "output_type": "display_data"
    },
    {
     "name": "stdout",
     "output_type": "stream",
     "text": [
      "Epoch 10, train loss: 0.060; dev F1: 0.164; dev Precision: 0.093, dev Recall: 0.701\n"
     ]
    },
    {
     "data": {
      "application/vnd.jupyter.widget-view+json": {
       "model_id": "",
       "version_major": 2,
       "version_minor": 0
      },
      "text/plain": [
       "Train:   0%|          | 0/392 [00:00<?, ?it/s]"
      ]
     },
     "metadata": {},
     "output_type": "display_data"
    },
    {
     "data": {
      "application/vnd.jupyter.widget-view+json": {
       "model_id": "",
       "version_major": 2,
       "version_minor": 0
      },
      "text/plain": [
       "Validate:   0%|          | 0/63 [00:00<?, ?it/s]"
      ]
     },
     "metadata": {},
     "output_type": "display_data"
    },
    {
     "name": "stdout",
     "output_type": "stream",
     "text": [
      "Epoch 11, train loss: 0.056; dev F1: 0.185; dev Precision: 0.105, dev Recall: 0.795\n",
      "Saving the model\n"
     ]
    },
    {
     "data": {
      "application/vnd.jupyter.widget-view+json": {
       "model_id": "",
       "version_major": 2,
       "version_minor": 0
      },
      "text/plain": [
       "Train:   0%|          | 0/392 [00:00<?, ?it/s]"
      ]
     },
     "metadata": {},
     "output_type": "display_data"
    },
    {
     "data": {
      "application/vnd.jupyter.widget-view+json": {
       "model_id": "",
       "version_major": 2,
       "version_minor": 0
      },
      "text/plain": [
       "Validate:   0%|          | 0/63 [00:00<?, ?it/s]"
      ]
     },
     "metadata": {},
     "output_type": "display_data"
    },
    {
     "name": "stdout",
     "output_type": "stream",
     "text": [
      "Epoch 12, train loss: 0.050; dev F1: 0.162; dev Precision: 0.092, dev Recall: 0.677\n"
     ]
    },
    {
     "data": {
      "application/vnd.jupyter.widget-view+json": {
       "model_id": "",
       "version_major": 2,
       "version_minor": 0
      },
      "text/plain": [
       "Train:   0%|          | 0/392 [00:00<?, ?it/s]"
      ]
     },
     "metadata": {},
     "output_type": "display_data"
    },
    {
     "data": {
      "application/vnd.jupyter.widget-view+json": {
       "model_id": "",
       "version_major": 2,
       "version_minor": 0
      },
      "text/plain": [
       "Validate:   0%|          | 0/63 [00:00<?, ?it/s]"
      ]
     },
     "metadata": {},
     "output_type": "display_data"
    },
    {
     "name": "stdout",
     "output_type": "stream",
     "text": [
      "Epoch 13, train loss: 0.051; dev F1: 0.128; dev Precision: 0.073, dev Recall: 0.542\n"
     ]
    },
    {
     "data": {
      "application/vnd.jupyter.widget-view+json": {
       "model_id": "",
       "version_major": 2,
       "version_minor": 0
      },
      "text/plain": [
       "Train:   0%|          | 0/392 [00:00<?, ?it/s]"
      ]
     },
     "metadata": {},
     "output_type": "display_data"
    },
    {
     "data": {
      "application/vnd.jupyter.widget-view+json": {
       "model_id": "",
       "version_major": 2,
       "version_minor": 0
      },
      "text/plain": [
       "Validate:   0%|          | 0/63 [00:00<?, ?it/s]"
      ]
     },
     "metadata": {},
     "output_type": "display_data"
    },
    {
     "name": "stdout",
     "output_type": "stream",
     "text": [
      "Epoch 14, train loss: 0.050; dev F1: 0.161; dev Precision: 0.091, dev Recall: 0.733\n"
     ]
    },
    {
     "data": {
      "application/vnd.jupyter.widget-view+json": {
       "model_id": "",
       "version_major": 2,
       "version_minor": 0
      },
      "text/plain": [
       "Train:   0%|          | 0/392 [00:00<?, ?it/s]"
      ]
     },
     "metadata": {},
     "output_type": "display_data"
    },
    {
     "data": {
      "application/vnd.jupyter.widget-view+json": {
       "model_id": "",
       "version_major": 2,
       "version_minor": 0
      },
      "text/plain": [
       "Validate:   0%|          | 0/63 [00:00<?, ?it/s]"
      ]
     },
     "metadata": {},
     "output_type": "display_data"
    },
    {
     "name": "stdout",
     "output_type": "stream",
     "text": [
      "Epoch 15, train loss: 0.043; dev F1: 0.159; dev Precision: 0.090, dev Recall: 0.675\n"
     ]
    },
    {
     "data": {
      "application/vnd.jupyter.widget-view+json": {
       "model_id": "",
       "version_major": 2,
       "version_minor": 0
      },
      "text/plain": [
       "Train:   0%|          | 0/392 [00:00<?, ?it/s]"
      ]
     },
     "metadata": {},
     "output_type": "display_data"
    },
    {
     "data": {
      "application/vnd.jupyter.widget-view+json": {
       "model_id": "",
       "version_major": 2,
       "version_minor": 0
      },
      "text/plain": [
       "Validate:   0%|          | 0/63 [00:00<?, ?it/s]"
      ]
     },
     "metadata": {},
     "output_type": "display_data"
    },
    {
     "name": "stdout",
     "output_type": "stream",
     "text": [
      "Epoch 16, train loss: 0.044; dev F1: 0.175; dev Precision: 0.099, dev Recall: 0.772\n",
      "Early stopping: no improvement for 5 epochs.\n"
     ]
    },
    {
     "data": {
      "image/png": "[encoded data removed]",
      "text/plain": [
       "<Figure size 640x480 with 1 Axes>"
      ]
     },
     "metadata": {},
     "output_type": "display_data"
    },
    {
     "data": {
      "image/png": "[encoded data removed]",
      "text/plain": [
       "<Figure size 640x480 with 1 Axes>"
      ]
     },
     "metadata": {},
     "output_type": "display_data"
    }
   ],
   "source": [
    "# TL1_0, DA1_0 = main_T5_likelihood(Train, Validate,\n",
    "#                         tokeniser, model, device, n_epochs=20, \n",
    "#                         lr=10**(-4), early_stop=5, batch_size=32)"
   ]
  },
  {
   "cell_type": "code",
   "execution_count": 32,
   "id": "964bb259-e783-4851-b13f-dfe1d3097fb7",
   "metadata": {
    "tags": []
   },
   "outputs": [
    {
     "data": {
      "application/vnd.jupyter.widget-view+json": {
       "model_id": "480334dd30d04fe488940ef46ad12f3b",
       "version_major": 2,
       "version_minor": 0
      },
      "text/plain": [
       "  0%|          | 0/30 [00:00<?, ?it/s]"
      ]
     },
     "metadata": {},
     "output_type": "display_data"
    },
    {
     "data": {
      "application/vnd.jupyter.widget-view+json": {
       "model_id": "",
       "version_major": 2,
       "version_minor": 0
      },
      "text/plain": [
       "Train:   0%|          | 0/392 [00:00<?, ?it/s]"
      ]
     },
     "metadata": {},
     "output_type": "display_data"
    },
    {
     "name": "stderr",
     "output_type": "stream",
     "text": [
      "Passing a tuple of `past_key_values` is deprecated and will be removed in Transformers v4.48.0. You should pass an instance of `EncoderDecoderCache` instead, e.g. `past_key_values=EncoderDecoderCache.from_legacy_cache(past_key_values)`.\n"
     ]
    },
    {
     "data": {
      "application/vnd.jupyter.widget-view+json": {
       "model_id": "",
       "version_major": 2,
       "version_minor": 0
      },
      "text/plain": [
       "Validate:   0%|          | 0/63 [00:00<?, ?it/s]"
      ]
     },
     "metadata": {},
     "output_type": "display_data"
    },
    {
     "name": "stdout",
     "output_type": "stream",
     "text": [
      "Epoch  0, train loss: 0.325; dev F1: 0.188; dev Precision: 0.206, dev Recall: 0.173\n",
      "Saving the model\n"
     ]
    },
    {
     "data": {
      "application/vnd.jupyter.widget-view+json": {
       "model_id": "",
       "version_major": 2,
       "version_minor": 0
      },
      "text/plain": [
       "Train:   0%|          | 0/392 [00:00<?, ?it/s]"
      ]
     },
     "metadata": {},
     "output_type": "display_data"
    },
    {
     "data": {
      "application/vnd.jupyter.widget-view+json": {
       "model_id": "",
       "version_major": 2,
       "version_minor": 0
      },
      "text/plain": [
       "Validate:   0%|          | 0/63 [00:00<?, ?it/s]"
      ]
     },
     "metadata": {},
     "output_type": "display_data"
    },
    {
     "name": "stdout",
     "output_type": "stream",
     "text": [
      "Epoch  1, train loss: 0.198; dev F1: 0.398; dev Precision: 0.425, dev Recall: 0.374\n",
      "Saving the model\n"
     ]
    },
    {
     "data": {
      "application/vnd.jupyter.widget-view+json": {
       "model_id": "",
       "version_major": 2,
       "version_minor": 0
      },
      "text/plain": [
       "Train:   0%|          | 0/392 [00:00<?, ?it/s]"
      ]
     },
     "metadata": {},
     "output_type": "display_data"
    },
    {
     "data": {
      "application/vnd.jupyter.widget-view+json": {
       "model_id": "",
       "version_major": 2,
       "version_minor": 0
      },
      "text/plain": [
       "Validate:   0%|          | 0/63 [00:00<?, ?it/s]"
      ]
     },
     "metadata": {},
     "output_type": "display_data"
    },
    {
     "name": "stdout",
     "output_type": "stream",
     "text": [
      "Epoch  2, train loss: 0.146; dev F1: 0.500; dev Precision: 0.472, dev Recall: 0.531\n",
      "Saving the model\n"
     ]
    },
    {
     "data": {
      "application/vnd.jupyter.widget-view+json": {
       "model_id": "",
       "version_major": 2,
       "version_minor": 0
      },
      "text/plain": [
       "Train:   0%|          | 0/392 [00:00<?, ?it/s]"
      ]
     },
     "metadata": {},
     "output_type": "display_data"
    },
    {
     "data": {
      "application/vnd.jupyter.widget-view+json": {
       "model_id": "",
       "version_major": 2,
       "version_minor": 0
      },
      "text/plain": [
       "Validate:   0%|          | 0/63 [00:00<?, ?it/s]"
      ]
     },
     "metadata": {},
     "output_type": "display_data"
    },
    {
     "name": "stdout",
     "output_type": "stream",
     "text": [
      "Epoch  3, train loss: 0.110; dev F1: 0.537; dev Precision: 0.544, dev Recall: 0.531\n",
      "Saving the model\n"
     ]
    },
    {
     "data": {
      "application/vnd.jupyter.widget-view+json": {
       "model_id": "",
       "version_major": 2,
       "version_minor": 0
      },
      "text/plain": [
       "Train:   0%|          | 0/392 [00:00<?, ?it/s]"
      ]
     },
     "metadata": {},
     "output_type": "display_data"
    },
    {
     "data": {
      "application/vnd.jupyter.widget-view+json": {
       "model_id": "",
       "version_major": 2,
       "version_minor": 0
      },
      "text/plain": [
       "Validate:   0%|          | 0/63 [00:00<?, ?it/s]"
      ]
     },
     "metadata": {},
     "output_type": "display_data"
    },
    {
     "name": "stdout",
     "output_type": "stream",
     "text": [
      "Epoch  4, train loss: 0.092; dev F1: 0.515; dev Precision: 0.521, dev Recall: 0.510\n"
     ]
    },
    {
     "data": {
      "application/vnd.jupyter.widget-view+json": {
       "model_id": "",
       "version_major": 2,
       "version_minor": 0
      },
      "text/plain": [
       "Train:   0%|          | 0/392 [00:00<?, ?it/s]"
      ]
     },
     "metadata": {},
     "output_type": "display_data"
    },
    {
     "data": {
      "application/vnd.jupyter.widget-view+json": {
       "model_id": "",
       "version_major": 2,
       "version_minor": 0
      },
      "text/plain": [
       "Validate:   0%|          | 0/63 [00:00<?, ?it/s]"
      ]
     },
     "metadata": {},
     "output_type": "display_data"
    },
    {
     "name": "stdout",
     "output_type": "stream",
     "text": [
      "Epoch  5, train loss: 0.083; dev F1: 0.575; dev Precision: 0.565, dev Recall: 0.586\n",
      "Saving the model\n"
     ]
    },
    {
     "data": {
      "application/vnd.jupyter.widget-view+json": {
       "model_id": "",
       "version_major": 2,
       "version_minor": 0
      },
      "text/plain": [
       "Train:   0%|          | 0/392 [00:00<?, ?it/s]"
      ]
     },
     "metadata": {},
     "output_type": "display_data"
    },
    {
     "data": {
      "application/vnd.jupyter.widget-view+json": {
       "model_id": "",
       "version_major": 2,
       "version_minor": 0
      },
      "text/plain": [
       "Validate:   0%|          | 0/63 [00:00<?, ?it/s]"
      ]
     },
     "metadata": {},
     "output_type": "display_data"
    },
    {
     "name": "stdout",
     "output_type": "stream",
     "text": [
      "Epoch  6, train loss: 0.070; dev F1: 0.574; dev Precision: 0.613, dev Recall: 0.540\n"
     ]
    },
    {
     "data": {
      "application/vnd.jupyter.widget-view+json": {
       "model_id": "",
       "version_major": 2,
       "version_minor": 0
      },
      "text/plain": [
       "Train:   0%|          | 0/392 [00:00<?, ?it/s]"
      ]
     },
     "metadata": {},
     "output_type": "display_data"
    },
    {
     "data": {
      "application/vnd.jupyter.widget-view+json": {
       "model_id": "",
       "version_major": 2,
       "version_minor": 0
      },
      "text/plain": [
       "Validate:   0%|          | 0/63 [00:00<?, ?it/s]"
      ]
     },
     "metadata": {},
     "output_type": "display_data"
    },
    {
     "name": "stdout",
     "output_type": "stream",
     "text": [
      "Epoch  7, train loss: 0.069; dev F1: 0.539; dev Precision: 0.524, dev Recall: 0.554\n"
     ]
    },
    {
     "data": {
      "application/vnd.jupyter.widget-view+json": {
       "model_id": "",
       "version_major": 2,
       "version_minor": 0
      },
      "text/plain": [
       "Train:   0%|          | 0/392 [00:00<?, ?it/s]"
      ]
     },
     "metadata": {},
     "output_type": "display_data"
    },
    {
     "data": {
      "application/vnd.jupyter.widget-view+json": {
       "model_id": "",
       "version_major": 2,
       "version_minor": 0
      },
      "text/plain": [
       "Validate:   0%|          | 0/63 [00:00<?, ?it/s]"
      ]
     },
     "metadata": {},
     "output_type": "display_data"
    },
    {
     "name": "stdout",
     "output_type": "stream",
     "text": [
      "Epoch  8, train loss: 0.058; dev F1: 0.565; dev Precision: 0.559, dev Recall: 0.570\n"
     ]
    },
    {
     "data": {
      "application/vnd.jupyter.widget-view+json": {
       "model_id": "",
       "version_major": 2,
       "version_minor": 0
      },
      "text/plain": [
       "Train:   0%|          | 0/392 [00:00<?, ?it/s]"
      ]
     },
     "metadata": {},
     "output_type": "display_data"
    },
    {
     "data": {
      "application/vnd.jupyter.widget-view+json": {
       "model_id": "",
       "version_major": 2,
       "version_minor": 0
      },
      "text/plain": [
       "Validate:   0%|          | 0/63 [00:00<?, ?it/s]"
      ]
     },
     "metadata": {},
     "output_type": "display_data"
    },
    {
     "name": "stdout",
     "output_type": "stream",
     "text": [
      "Epoch  9, train loss: 0.059; dev F1: 0.561; dev Precision: 0.665, dev Recall: 0.486\n"
     ]
    },
    {
     "data": {
      "application/vnd.jupyter.widget-view+json": {
       "model_id": "",
       "version_major": 2,
       "version_minor": 0
      },
      "text/plain": [
       "Train:   0%|          | 0/392 [00:00<?, ?it/s]"
      ]
     },
     "metadata": {},
     "output_type": "display_data"
    },
    {
     "data": {
      "application/vnd.jupyter.widget-view+json": {
       "model_id": "",
       "version_major": 2,
       "version_minor": 0
      },
      "text/plain": [
       "Validate:   0%|          | 0/63 [00:00<?, ?it/s]"
      ]
     },
     "metadata": {},
     "output_type": "display_data"
    },
    {
     "name": "stdout",
     "output_type": "stream",
     "text": [
      "Epoch 10, train loss: 0.048; dev F1: 0.517; dev Precision: 0.601, dev Recall: 0.454\n",
      "Early stopping: no improvement for 5 epochs.\n"
     ]
    },
    {
     "data": {
      "image/png": "[encoded data removed]",
      "text/plain": [
       "<Figure size 640x480 with 1 Axes>"
      ]
     },
     "metadata": {},
     "output_type": "display_data"
    },
    {
     "data": {
      "image/png": "[encoded data removed]",
      "text/plain": [
       "<Figure size 640x480 with 1 Axes>"
      ]
     },
     "metadata": {},
     "output_type": "display_data"
    }
   ],
   "source": [
    "# TL1_1, DA1_1 = main_T5(Train, Validate,\n",
    "#                        tokeniser, model, device, n_epochs=30, \n",
    "#                        lr=10**(-3), early_stop=5, batch_size=32)"
   ]
  },
  {
   "cell_type": "code",
   "execution_count": 34,
   "id": "20ce6e2a-d3e3-4032-b75c-d130eb786f5e",
   "metadata": {
    "tags": []
   },
   "outputs": [
    {
     "data": {
      "application/vnd.jupyter.widget-view+json": {
       "model_id": "4890f0ce1c704253a3a3661c1d447c4a",
       "version_major": 2,
       "version_minor": 0
      },
      "text/plain": [
       "  0%|          | 0/30 [00:00<?, ?it/s]"
      ]
     },
     "metadata": {},
     "output_type": "display_data"
    },
    {
     "data": {
      "application/vnd.jupyter.widget-view+json": {
       "model_id": "",
       "version_major": 2,
       "version_minor": 0
      },
      "text/plain": [
       "Train:   0%|          | 0/392 [00:00<?, ?it/s]"
      ]
     },
     "metadata": {},
     "output_type": "display_data"
    },
    {
     "data": {
      "application/vnd.jupyter.widget-view+json": {
       "model_id": "",
       "version_major": 2,
       "version_minor": 0
      },
      "text/plain": [
       "Validate:   0%|          | 0/63 [00:00<?, ?it/s]"
      ]
     },
     "metadata": {},
     "output_type": "display_data"
    },
    {
     "name": "stdout",
     "output_type": "stream",
     "text": [
      "Epoch  0, train loss: 0.349; dev F1: 0.115; dev Precision: 0.168, dev Recall: 0.087\n",
      "Saving the model\n"
     ]
    },
    {
     "data": {
      "application/vnd.jupyter.widget-view+json": {
       "model_id": "",
       "version_major": 2,
       "version_minor": 0
      },
      "text/plain": [
       "Train:   0%|          | 0/392 [00:00<?, ?it/s]"
      ]
     },
     "metadata": {},
     "output_type": "display_data"
    },
    {
     "data": {
      "application/vnd.jupyter.widget-view+json": {
       "model_id": "",
       "version_major": 2,
       "version_minor": 0
      },
      "text/plain": [
       "Validate:   0%|          | 0/63 [00:00<?, ?it/s]"
      ]
     },
     "metadata": {},
     "output_type": "display_data"
    },
    {
     "name": "stdout",
     "output_type": "stream",
     "text": [
      "Epoch  1, train loss: 0.215; dev F1: 0.287; dev Precision: 0.313, dev Recall: 0.265\n",
      "Saving the model\n"
     ]
    },
    {
     "data": {
      "application/vnd.jupyter.widget-view+json": {
       "model_id": "",
       "version_major": 2,
       "version_minor": 0
      },
      "text/plain": [
       "Train:   0%|          | 0/392 [00:00<?, ?it/s]"
      ]
     },
     "metadata": {},
     "output_type": "display_data"
    },
    {
     "data": {
      "application/vnd.jupyter.widget-view+json": {
       "model_id": "",
       "version_major": 2,
       "version_minor": 0
      },
      "text/plain": [
       "Validate:   0%|          | 0/63 [00:00<?, ?it/s]"
      ]
     },
     "metadata": {},
     "output_type": "display_data"
    },
    {
     "name": "stdout",
     "output_type": "stream",
     "text": [
      "Epoch  2, train loss: 0.157; dev F1: 0.403; dev Precision: 0.404, dev Recall: 0.403\n",
      "Saving the model\n"
     ]
    },
    {
     "data": {
      "application/vnd.jupyter.widget-view+json": {
       "model_id": "",
       "version_major": 2,
       "version_minor": 0
      },
      "text/plain": [
       "Train:   0%|          | 0/392 [00:00<?, ?it/s]"
      ]
     },
     "metadata": {},
     "output_type": "display_data"
    },
    {
     "data": {
      "application/vnd.jupyter.widget-view+json": {
       "model_id": "",
       "version_major": 2,
       "version_minor": 0
      },
      "text/plain": [
       "Validate:   0%|          | 0/63 [00:00<?, ?it/s]"
      ]
     },
     "metadata": {},
     "output_type": "display_data"
    },
    {
     "name": "stdout",
     "output_type": "stream",
     "text": [
      "Epoch  3, train loss: 0.126; dev F1: 0.474; dev Precision: 0.466, dev Recall: 0.481\n",
      "Saving the model\n"
     ]
    },
    {
     "data": {
      "application/vnd.jupyter.widget-view+json": {
       "model_id": "",
       "version_major": 2,
       "version_minor": 0
      },
      "text/plain": [
       "Train:   0%|          | 0/392 [00:00<?, ?it/s]"
      ]
     },
     "metadata": {},
     "output_type": "display_data"
    },
    {
     "data": {
      "application/vnd.jupyter.widget-view+json": {
       "model_id": "",
       "version_major": 2,
       "version_minor": 0
      },
      "text/plain": [
       "Validate:   0%|          | 0/63 [00:00<?, ?it/s]"
      ]
     },
     "metadata": {},
     "output_type": "display_data"
    },
    {
     "name": "stdout",
     "output_type": "stream",
     "text": [
      "Epoch  4, train loss: 0.106; dev F1: 0.568; dev Precision: 0.552, dev Recall: 0.584\n",
      "Saving the model\n"
     ]
    },
    {
     "data": {
      "application/vnd.jupyter.widget-view+json": {
       "model_id": "",
       "version_major": 2,
       "version_minor": 0
      },
      "text/plain": [
       "Train:   0%|          | 0/392 [00:00<?, ?it/s]"
      ]
     },
     "metadata": {},
     "output_type": "display_data"
    },
    {
     "data": {
      "application/vnd.jupyter.widget-view+json": {
       "model_id": "",
       "version_major": 2,
       "version_minor": 0
      },
      "text/plain": [
       "Validate:   0%|          | 0/63 [00:00<?, ?it/s]"
      ]
     },
     "metadata": {},
     "output_type": "display_data"
    },
    {
     "name": "stdout",
     "output_type": "stream",
     "text": [
      "Epoch  5, train loss: 0.089; dev F1: 0.609; dev Precision: 0.606, dev Recall: 0.612\n",
      "Saving the model\n"
     ]
    },
    {
     "data": {
      "application/vnd.jupyter.widget-view+json": {
       "model_id": "",
       "version_major": 2,
       "version_minor": 0
      },
      "text/plain": [
       "Train:   0%|          | 0/392 [00:00<?, ?it/s]"
      ]
     },
     "metadata": {},
     "output_type": "display_data"
    },
    {
     "data": {
      "application/vnd.jupyter.widget-view+json": {
       "model_id": "",
       "version_major": 2,
       "version_minor": 0
      },
      "text/plain": [
       "Validate:   0%|          | 0/63 [00:00<?, ?it/s]"
      ]
     },
     "metadata": {},
     "output_type": "display_data"
    },
    {
     "name": "stdout",
     "output_type": "stream",
     "text": [
      "Epoch  6, train loss: 0.077; dev F1: 0.649; dev Precision: 0.644, dev Recall: 0.653\n",
      "Saving the model\n"
     ]
    },
    {
     "data": {
      "application/vnd.jupyter.widget-view+json": {
       "model_id": "",
       "version_major": 2,
       "version_minor": 0
      },
      "text/plain": [
       "Train:   0%|          | 0/392 [00:00<?, ?it/s]"
      ]
     },
     "metadata": {},
     "output_type": "display_data"
    },
    {
     "data": {
      "application/vnd.jupyter.widget-view+json": {
       "model_id": "",
       "version_major": 2,
       "version_minor": 0
      },
      "text/plain": [
       "Validate:   0%|          | 0/63 [00:00<?, ?it/s]"
      ]
     },
     "metadata": {},
     "output_type": "display_data"
    },
    {
     "name": "stdout",
     "output_type": "stream",
     "text": [
      "Epoch  7, train loss: 0.073; dev F1: 0.425; dev Precision: 0.432, dev Recall: 0.419\n"
     ]
    },
    {
     "data": {
      "application/vnd.jupyter.widget-view+json": {
       "model_id": "",
       "version_major": 2,
       "version_minor": 0
      },
      "text/plain": [
       "Train:   0%|          | 0/392 [00:00<?, ?it/s]"
      ]
     },
     "metadata": {},
     "output_type": "display_data"
    },
    {
     "data": {
      "application/vnd.jupyter.widget-view+json": {
       "model_id": "",
       "version_major": 2,
       "version_minor": 0
      },
      "text/plain": [
       "Validate:   0%|          | 0/63 [00:00<?, ?it/s]"
      ]
     },
     "metadata": {},
     "output_type": "display_data"
    },
    {
     "name": "stdout",
     "output_type": "stream",
     "text": [
      "Epoch  8, train loss: 0.068; dev F1: 0.476; dev Precision: 0.480, dev Recall: 0.473\n"
     ]
    },
    {
     "data": {
      "application/vnd.jupyter.widget-view+json": {
       "model_id": "",
       "version_major": 2,
       "version_minor": 0
      },
      "text/plain": [
       "Train:   0%|          | 0/392 [00:00<?, ?it/s]"
      ]
     },
     "metadata": {},
     "output_type": "display_data"
    },
    {
     "data": {
      "application/vnd.jupyter.widget-view+json": {
       "model_id": "",
       "version_major": 2,
       "version_minor": 0
      },
      "text/plain": [
       "Validate:   0%|          | 0/63 [00:00<?, ?it/s]"
      ]
     },
     "metadata": {},
     "output_type": "display_data"
    },
    {
     "name": "stdout",
     "output_type": "stream",
     "text": [
      "Epoch  9, train loss: 0.062; dev F1: 0.526; dev Precision: 0.528, dev Recall: 0.524\n"
     ]
    },
    {
     "data": {
      "application/vnd.jupyter.widget-view+json": {
       "model_id": "",
       "version_major": 2,
       "version_minor": 0
      },
      "text/plain": [
       "Train:   0%|          | 0/392 [00:00<?, ?it/s]"
      ]
     },
     "metadata": {},
     "output_type": "display_data"
    },
    {
     "data": {
      "application/vnd.jupyter.widget-view+json": {
       "model_id": "",
       "version_major": 2,
       "version_minor": 0
      },
      "text/plain": [
       "Validate:   0%|          | 0/63 [00:00<?, ?it/s]"
      ]
     },
     "metadata": {},
     "output_type": "display_data"
    },
    {
     "name": "stdout",
     "output_type": "stream",
     "text": [
      "Epoch 10, train loss: 0.060; dev F1: 0.620; dev Precision: 0.620, dev Recall: 0.619\n"
     ]
    },
    {
     "data": {
      "application/vnd.jupyter.widget-view+json": {
       "model_id": "",
       "version_major": 2,
       "version_minor": 0
      },
      "text/plain": [
       "Train:   0%|          | 0/392 [00:00<?, ?it/s]"
      ]
     },
     "metadata": {},
     "output_type": "display_data"
    },
    {
     "data": {
      "application/vnd.jupyter.widget-view+json": {
       "model_id": "",
       "version_major": 2,
       "version_minor": 0
      },
      "text/plain": [
       "Validate:   0%|          | 0/63 [00:00<?, ?it/s]"
      ]
     },
     "metadata": {},
     "output_type": "display_data"
    },
    {
     "name": "stdout",
     "output_type": "stream",
     "text": [
      "Epoch 11, train loss: 0.053; dev F1: 0.585; dev Precision: 0.592, dev Recall: 0.579\n"
     ]
    },
    {
     "data": {
      "application/vnd.jupyter.widget-view+json": {
       "model_id": "",
       "version_major": 2,
       "version_minor": 0
      },
      "text/plain": [
       "Train:   0%|          | 0/392 [00:00<?, ?it/s]"
      ]
     },
     "metadata": {},
     "output_type": "display_data"
    },
    {
     "data": {
      "application/vnd.jupyter.widget-view+json": {
       "model_id": "",
       "version_major": 2,
       "version_minor": 0
      },
      "text/plain": [
       "Validate:   0%|          | 0/63 [00:00<?, ?it/s]"
      ]
     },
     "metadata": {},
     "output_type": "display_data"
    },
    {
     "name": "stdout",
     "output_type": "stream",
     "text": [
      "Epoch 12, train loss: 0.056; dev F1: 0.527; dev Precision: 0.528, dev Recall: 0.527\n"
     ]
    },
    {
     "data": {
      "application/vnd.jupyter.widget-view+json": {
       "model_id": "",
       "version_major": 2,
       "version_minor": 0
      },
      "text/plain": [
       "Train:   0%|          | 0/392 [00:00<?, ?it/s]"
      ]
     },
     "metadata": {},
     "output_type": "display_data"
    },
    {
     "data": {
      "application/vnd.jupyter.widget-view+json": {
       "model_id": "",
       "version_major": 2,
       "version_minor": 0
      },
      "text/plain": [
       "Validate:   0%|          | 0/63 [00:00<?, ?it/s]"
      ]
     },
     "metadata": {},
     "output_type": "display_data"
    },
    {
     "name": "stdout",
     "output_type": "stream",
     "text": [
      "Epoch 13, train loss: 0.049; dev F1: 0.606; dev Precision: 0.621, dev Recall: 0.592\n"
     ]
    },
    {
     "data": {
      "application/vnd.jupyter.widget-view+json": {
       "model_id": "",
       "version_major": 2,
       "version_minor": 0
      },
      "text/plain": [
       "Train:   0%|          | 0/392 [00:00<?, ?it/s]"
      ]
     },
     "metadata": {},
     "output_type": "display_data"
    },
    {
     "data": {
      "application/vnd.jupyter.widget-view+json": {
       "model_id": "",
       "version_major": 2,
       "version_minor": 0
      },
      "text/plain": [
       "Validate:   0%|          | 0/63 [00:00<?, ?it/s]"
      ]
     },
     "metadata": {},
     "output_type": "display_data"
    },
    {
     "name": "stdout",
     "output_type": "stream",
     "text": [
      "Epoch 14, train loss: 0.043; dev F1: 0.620; dev Precision: 0.632, dev Recall: 0.609\n",
      "Early stopping: no improvement for 8 epochs.\n"
     ]
    },
    {
     "data": {
      "image/png": "[encoded data removed]",
      "text/plain": [
       "<Figure size 640x480 with 1 Axes>"
      ]
     },
     "metadata": {},
     "output_type": "display_data"
    },
    {
     "data": {
      "image/png": "[encoded data removed]",
      "text/plain": [
       "<Figure size 640x480 with 1 Axes>"
      ]
     },
     "metadata": {},
     "output_type": "display_data"
    }
   ],
   "source": [
    "TL1_2, DA1_2 = main_T5(Train, Validate,\n",
    "                       tokeniser, model, device, n_epochs=30, \n",
    "                       lr=10**(-4), early_stop=8, batch_size=32)"
   ]
  },
  {
   "cell_type": "markdown",
   "id": "c0548ea0-9d89-425c-845b-cba927d7d95a",
   "metadata": {},
   "source": [
    "### 3-1-2. Simple tags "
   ]
  },
  {
   "cell_type": "code",
   "execution_count": 37,
   "id": "cb8ea07b-e1af-4b22-8640-60cb80acc7f3",
   "metadata": {
    "tags": []
   },
   "outputs": [],
   "source": [
    "model = AutoModelForSeq2SeqLM.from_pretrained(\n",
    "    model_tag, cache_dir='./hf_cache').to(device)\n",
    "tokeniser = AutoTokenizer.from_pretrained(model_tag)"
   ]
  },
  {
   "cell_type": "code",
   "execution_count": 42,
   "id": "91abb51e-abff-4b3b-babb-97bf8267d4da",
   "metadata": {},
   "outputs": [
    {
     "data": {
      "application/vnd.jupyter.widget-view+json": {
       "model_id": "a9648586c1764284a7a4a8d14e7c9730",
       "version_major": 2,
       "version_minor": 0
      },
      "text/plain": [
       "  0%|          | 0/30 [00:00<?, ?it/s]"
      ]
     },
     "metadata": {},
     "output_type": "display_data"
    },
    {
     "data": {
      "application/vnd.jupyter.widget-view+json": {
       "model_id": "",
       "version_major": 2,
       "version_minor": 0
      },
      "text/plain": [
       "Train:   0%|          | 0/392 [00:00<?, ?it/s]"
      ]
     },
     "metadata": {},
     "output_type": "display_data"
    },
    {
     "data": {
      "application/vnd.jupyter.widget-view+json": {
       "model_id": "",
       "version_major": 2,
       "version_minor": 0
      },
      "text/plain": [
       "Validate:   0%|          | 0/63 [00:00<?, ?it/s]"
      ]
     },
     "metadata": {},
     "output_type": "display_data"
    },
    {
     "name": "stdout",
     "output_type": "stream",
     "text": [
      "Epoch  0, train loss: 0.358; dev F1: 0.128; dev Precision: 0.383, dev Recall: 0.077\n",
      "Saving the model\n"
     ]
    },
    {
     "data": {
      "application/vnd.jupyter.widget-view+json": {
       "model_id": "",
       "version_major": 2,
       "version_minor": 0
      },
      "text/plain": [
       "Train:   0%|          | 0/392 [00:00<?, ?it/s]"
      ]
     },
     "metadata": {},
     "output_type": "display_data"
    },
    {
     "data": {
      "application/vnd.jupyter.widget-view+json": {
       "model_id": "",
       "version_major": 2,
       "version_minor": 0
      },
      "text/plain": [
       "Validate:   0%|          | 0/63 [00:00<?, ?it/s]"
      ]
     },
     "metadata": {},
     "output_type": "display_data"
    },
    {
     "name": "stdout",
     "output_type": "stream",
     "text": [
      "Epoch  1, train loss: 0.238; dev F1: 0.261; dev Precision: 0.330, dev Recall: 0.216\n",
      "Saving the model\n"
     ]
    },
    {
     "data": {
      "application/vnd.jupyter.widget-view+json": {
       "model_id": "",
       "version_major": 2,
       "version_minor": 0
      },
      "text/plain": [
       "Train:   0%|          | 0/392 [00:00<?, ?it/s]"
      ]
     },
     "metadata": {},
     "output_type": "display_data"
    },
    {
     "data": {
      "application/vnd.jupyter.widget-view+json": {
       "model_id": "",
       "version_major": 2,
       "version_minor": 0
      },
      "text/plain": [
       "Validate:   0%|          | 0/63 [00:00<?, ?it/s]"
      ]
     },
     "metadata": {},
     "output_type": "display_data"
    },
    {
     "name": "stdout",
     "output_type": "stream",
     "text": [
      "Epoch  2, train loss: 0.187; dev F1: 0.374; dev Precision: 0.394, dev Recall: 0.356\n",
      "Saving the model\n"
     ]
    },
    {
     "data": {
      "application/vnd.jupyter.widget-view+json": {
       "model_id": "",
       "version_major": 2,
       "version_minor": 0
      },
      "text/plain": [
       "Train:   0%|          | 0/392 [00:00<?, ?it/s]"
      ]
     },
     "metadata": {},
     "output_type": "display_data"
    },
    {
     "data": {
      "application/vnd.jupyter.widget-view+json": {
       "model_id": "",
       "version_major": 2,
       "version_minor": 0
      },
      "text/plain": [
       "Validate:   0%|          | 0/63 [00:00<?, ?it/s]"
      ]
     },
     "metadata": {},
     "output_type": "display_data"
    },
    {
     "name": "stdout",
     "output_type": "stream",
     "text": [
      "Epoch  3, train loss: 0.151; dev F1: 0.453; dev Precision: 0.427, dev Recall: 0.483\n",
      "Saving the model\n"
     ]
    },
    {
     "data": {
      "application/vnd.jupyter.widget-view+json": {
       "model_id": "",
       "version_major": 2,
       "version_minor": 0
      },
      "text/plain": [
       "Train:   0%|          | 0/392 [00:00<?, ?it/s]"
      ]
     },
     "metadata": {},
     "output_type": "display_data"
    },
    {
     "data": {
      "application/vnd.jupyter.widget-view+json": {
       "model_id": "",
       "version_major": 2,
       "version_minor": 0
      },
      "text/plain": [
       "Validate:   0%|          | 0/63 [00:00<?, ?it/s]"
      ]
     },
     "metadata": {},
     "output_type": "display_data"
    },
    {
     "name": "stdout",
     "output_type": "stream",
     "text": [
      "Epoch  4, train loss: 0.120; dev F1: 0.551; dev Precision: 0.522, dev Recall: 0.584\n",
      "Saving the model\n"
     ]
    },
    {
     "data": {
      "application/vnd.jupyter.widget-view+json": {
       "model_id": "",
       "version_major": 2,
       "version_minor": 0
      },
      "text/plain": [
       "Train:   0%|          | 0/392 [00:00<?, ?it/s]"
      ]
     },
     "metadata": {},
     "output_type": "display_data"
    },
    {
     "data": {
      "application/vnd.jupyter.widget-view+json": {
       "model_id": "",
       "version_major": 2,
       "version_minor": 0
      },
      "text/plain": [
       "Validate:   0%|          | 0/63 [00:00<?, ?it/s]"
      ]
     },
     "metadata": {},
     "output_type": "display_data"
    },
    {
     "name": "stdout",
     "output_type": "stream",
     "text": [
      "Epoch  5, train loss: 0.102; dev F1: 0.656; dev Precision: 0.632, dev Recall: 0.681\n",
      "Saving the model\n"
     ]
    },
    {
     "data": {
      "application/vnd.jupyter.widget-view+json": {
       "model_id": "",
       "version_major": 2,
       "version_minor": 0
      },
      "text/plain": [
       "Train:   0%|          | 0/392 [00:00<?, ?it/s]"
      ]
     },
     "metadata": {},
     "output_type": "display_data"
    },
    {
     "data": {
      "application/vnd.jupyter.widget-view+json": {
       "model_id": "",
       "version_major": 2,
       "version_minor": 0
      },
      "text/plain": [
       "Validate:   0%|          | 0/63 [00:00<?, ?it/s]"
      ]
     },
     "metadata": {},
     "output_type": "display_data"
    },
    {
     "name": "stdout",
     "output_type": "stream",
     "text": [
      "Epoch  6, train loss: 0.091; dev F1: 0.616; dev Precision: 0.597, dev Recall: 0.637\n"
     ]
    },
    {
     "data": {
      "application/vnd.jupyter.widget-view+json": {
       "model_id": "",
       "version_major": 2,
       "version_minor": 0
      },
      "text/plain": [
       "Train:   0%|          | 0/392 [00:00<?, ?it/s]"
      ]
     },
     "metadata": {},
     "output_type": "display_data"
    },
    {
     "data": {
      "application/vnd.jupyter.widget-view+json": {
       "model_id": "",
       "version_major": 2,
       "version_minor": 0
      },
      "text/plain": [
       "Validate:   0%|          | 0/63 [00:00<?, ?it/s]"
      ]
     },
     "metadata": {},
     "output_type": "display_data"
    },
    {
     "name": "stdout",
     "output_type": "stream",
     "text": [
      "Epoch  7, train loss: 0.077; dev F1: 0.696; dev Precision: 0.679, dev Recall: 0.713\n",
      "Saving the model\n"
     ]
    },
    {
     "data": {
      "application/vnd.jupyter.widget-view+json": {
       "model_id": "",
       "version_major": 2,
       "version_minor": 0
      },
      "text/plain": [
       "Train:   0%|          | 0/392 [00:00<?, ?it/s]"
      ]
     },
     "metadata": {},
     "output_type": "display_data"
    },
    {
     "data": {
      "application/vnd.jupyter.widget-view+json": {
       "model_id": "",
       "version_major": 2,
       "version_minor": 0
      },
      "text/plain": [
       "Validate:   0%|          | 0/63 [00:00<?, ?it/s]"
      ]
     },
     "metadata": {},
     "output_type": "display_data"
    },
    {
     "name": "stdout",
     "output_type": "stream",
     "text": [
      "Epoch  8, train loss: 0.073; dev F1: 0.563; dev Precision: 0.557, dev Recall: 0.570\n"
     ]
    },
    {
     "data": {
      "application/vnd.jupyter.widget-view+json": {
       "model_id": "",
       "version_major": 2,
       "version_minor": 0
      },
      "text/plain": [
       "Train:   0%|          | 0/392 [00:00<?, ?it/s]"
      ]
     },
     "metadata": {},
     "output_type": "display_data"
    },
    {
     "data": {
      "application/vnd.jupyter.widget-view+json": {
       "model_id": "",
       "version_major": 2,
       "version_minor": 0
      },
      "text/plain": [
       "Validate:   0%|          | 0/63 [00:00<?, ?it/s]"
      ]
     },
     "metadata": {},
     "output_type": "display_data"
    },
    {
     "name": "stdout",
     "output_type": "stream",
     "text": [
      "Epoch  9, train loss: 0.064; dev F1: 0.531; dev Precision: 0.522, dev Recall: 0.540\n"
     ]
    },
    {
     "data": {
      "application/vnd.jupyter.widget-view+json": {
       "model_id": "",
       "version_major": 2,
       "version_minor": 0
      },
      "text/plain": [
       "Train:   0%|          | 0/392 [00:00<?, ?it/s]"
      ]
     },
     "metadata": {},
     "output_type": "display_data"
    },
    {
     "data": {
      "application/vnd.jupyter.widget-view+json": {
       "model_id": "",
       "version_major": 2,
       "version_minor": 0
      },
      "text/plain": [
       "Validate:   0%|          | 0/63 [00:00<?, ?it/s]"
      ]
     },
     "metadata": {},
     "output_type": "display_data"
    },
    {
     "name": "stdout",
     "output_type": "stream",
     "text": [
      "Epoch 10, train loss: 0.064; dev F1: 0.456; dev Precision: 0.448, dev Recall: 0.464\n"
     ]
    },
    {
     "data": {
      "application/vnd.jupyter.widget-view+json": {
       "model_id": "",
       "version_major": 2,
       "version_minor": 0
      },
      "text/plain": [
       "Train:   0%|          | 0/392 [00:00<?, ?it/s]"
      ]
     },
     "metadata": {},
     "output_type": "display_data"
    },
    {
     "data": {
      "application/vnd.jupyter.widget-view+json": {
       "model_id": "",
       "version_major": 2,
       "version_minor": 0
      },
      "text/plain": [
       "Validate:   0%|          | 0/63 [00:00<?, ?it/s]"
      ]
     },
     "metadata": {},
     "output_type": "display_data"
    },
    {
     "name": "stdout",
     "output_type": "stream",
     "text": [
      "Epoch 11, train loss: 0.059; dev F1: 0.519; dev Precision: 0.507, dev Recall: 0.531\n"
     ]
    },
    {
     "data": {
      "application/vnd.jupyter.widget-view+json": {
       "model_id": "",
       "version_major": 2,
       "version_minor": 0
      },
      "text/plain": [
       "Train:   0%|          | 0/392 [00:00<?, ?it/s]"
      ]
     },
     "metadata": {},
     "output_type": "display_data"
    },
    {
     "data": {
      "application/vnd.jupyter.widget-view+json": {
       "model_id": "",
       "version_major": 2,
       "version_minor": 0
      },
      "text/plain": [
       "Validate:   0%|          | 0/63 [00:00<?, ?it/s]"
      ]
     },
     "metadata": {},
     "output_type": "display_data"
    },
    {
     "name": "stdout",
     "output_type": "stream",
     "text": [
      "Epoch 12, train loss: 0.055; dev F1: 0.623; dev Precision: 0.605, dev Recall: 0.642\n",
      "Early stopping: no improvement for 5 epochs.\n"
     ]
    },
    {
     "data": {
      "image/png": "[encoded data removed]",
      "text/plain": [
       "<Figure size 640x480 with 1 Axes>"
      ]
     },
     "metadata": {},
     "output_type": "display_data"
    },
    {
     "data": {
      "image/png": "[encoded data removed]",
      "text/plain": [
       "<Figure size 640x480 with 1 Axes>"
      ]
     },
     "metadata": {},
     "output_type": "display_data"
    }
   ],
   "source": [
    "TL2_1, DA2_1 = main_T5(Simple_Train, Simple_Validate,\n",
    "                       tokeniser, model, device, n_epochs=30, \n",
    "                       lr=10**(-4), early_stop=5, batch_size=32)"
   ]
  },
  {
   "cell_type": "markdown",
   "id": "3e9148ff-aa96-4f18-a515-da4a1a1b8707",
   "metadata": {},
   "source": [
    "## 3-2. Test & OOD"
   ]
  },
  {
   "cell_type": "markdown",
   "id": "2a8a98d9-3a76-4aa9-8c29-c5c2c6c8760b",
   "metadata": {},
   "source": [
    "### 3-2-1. Full tags"
   ]
  },
  {
   "cell_type": "code",
   "execution_count": 50,
   "id": "405e97ef-7eac-4ccc-8ca1-68abc604b11e",
   "metadata": {
    "tags": []
   },
   "outputs": [
    {
     "name": "stderr",
     "output_type": "stream",
     "text": [
      "C:\\Users\\86138\\AppData\\Local\\Temp\\ipykernel_24060\\855685083.py:2: FutureWarning: You are using `torch.load` with `weights_only=False` (the current default value), which uses the default pickle module implicitly. It is possible to construct malicious pickle data which will execute arbitrary code during unpickling (See https://github.com/pytorch/pytorch/blob/main/SECURITY.md#untrusted-models for more details). In a future release, the default value for `weights_only` will be flipped to `True`. This limits the functions that could be executed during unpickling. Arbitrary objects will no longer be allowed to be loaded via this mode unless they are explicitly allowlisted by the user via `torch.serialization.add_safe_globals`. We recommend you start setting `weights_only=True` for any use case where you don't have full control of the loaded file. Please open an issue on GitHub for any issues related to this experimental feature.\n",
      "  state = torch.load(path, map_location=device)\n"
     ]
    }
   ],
   "source": [
    "T5_Full_mod = load_checkpoint_T5(\"T5_Full_epoch07_4.pt\", device, model)\n",
    "batch_size=32"
   ]
  },
  {
   "cell_type": "code",
   "execution_count": null,
   "id": "f20d8b4a",
   "metadata": {},
   "outputs": [
    {
     "data": {
      "application/vnd.jupyter.widget-view+json": {
       "model_id": "6cbd775f73be40dc9995345d059bd36b",
       "version_major": 2,
       "version_minor": 0
      },
      "text/plain": [
       "Validate:   0%|          | 0/65 [00:00<?, ?it/s]"
      ]
     },
     "metadata": {},
     "output_type": "display_data"
    }
   ],
   "source": [
    "Test_Full_Precision, Test_Full_Recall, Test_Full_F1 = validate_epoch_T5(Test, batch_size,\n",
    "                                               tokeniser, T5_Full_mod, device, max_len=256)\n",
    "\n",
    "print(f\"Test_Full_F1: {Test_Full_F1*100:.1f}%, Test_Full_Precision: {Test_Full_Precision*100:.1f}%, Test_Full_Recall: {Test_Full_Recall*100:.1f}%\")"
   ]
  },
  {
   "cell_type": "code",
   "execution_count": 97,
   "id": "5c91236c-729e-4d89-9ba0-45f303ae7234",
   "metadata": {},
   "outputs": [
    {
     "data": {
      "application/vnd.jupyter.widget-view+json": {
       "model_id": "",
       "version_major": 2,
       "version_minor": 0
      },
      "text/plain": [
       "Test:   0%|          | 0/65 [00:00<?, ?it/s]"
      ]
     },
     "metadata": {},
     "output_type": "display_data"
    },
    {
     "data": {
      "text/plain": [
       "{'match_labelled': 0.6856617647058824,\n",
       " 'match_unlabelled': 0.7205882352941176,\n",
       " 'each_tag': {'LOC': {'precision': 0.64576802507837,\n",
       "   'recall': 0.6498422712933754,\n",
       "   'f1': 0.6477987421383647,\n",
       "   'support': 317},\n",
       "  'ORG': {'precision': 0.5307443365695793,\n",
       "   'recall': 0.5093167701863354,\n",
       "   'f1': 0.5198098256735341,\n",
       "   'support': 322},\n",
       "  'PER': {'precision': 0.7949260042283298,\n",
       "   'recall': 0.8374164810690423,\n",
       "   'f1': 0.8156182212581345,\n",
       "   'support': 449}},\n",
       " 'macro_P': 0.6571461219587597,\n",
       " 'macro_R': 0.6655251741829177,\n",
       " 'macro_F': 0.6610755963566778}"
      ]
     },
     "execution_count": 97,
     "metadata": {},
     "output_type": "execute_result"
    }
   ],
   "source": [
    "Test_result_T5 = evaluation_T5(Test, tokeniser, T5_Full_mod, \n",
    "                               device, tag_to_i, batch_size=32)\n",
    "Test_result_T5"
   ]
  },
  {
   "cell_type": "code",
   "execution_count": null,
   "id": "8a2dd88d",
   "metadata": {},
   "outputs": [],
   "source": [
    "OOD_Full_Precision, OOD_Full_Recall, OOD_Full_F1 = validate_epoch_T5(OOD, batch_size,\n",
    "                                               tokeniser, T5_Full_mod, device, max_len=256)\n",
    "\n",
    "print(f\"OOD_Full_F1: {OOD_Full_F1*100:.1f}%, OOD_Full_Precision: {OOD_Full_Precision*100:.1f}%, OOD_Full_Recall: {OOD_Full_Recall*100:.1f}%\")"
   ]
  },
  {
   "cell_type": "code",
   "execution_count": 98,
   "id": "abcf3d6d-b077-42ec-9fa4-4163cdb8afa2",
   "metadata": {
    "tags": []
   },
   "outputs": [
    {
     "data": {
      "application/vnd.jupyter.widget-view+json": {
       "model_id": "",
       "version_major": 2,
       "version_minor": 0
      },
      "text/plain": [
       "Test:   0%|          | 0/32 [00:00<?, ?it/s]"
      ]
     },
     "metadata": {},
     "output_type": "display_data"
    },
    {
     "data": {
      "text/plain": [
       "{'match_labelled': 0.5720930232558139,\n",
       " 'match_unlabelled': 0.6362790697674419,\n",
       " 'each_tag': {'LOC': {'precision': 0.5391498881431768,\n",
       "   'recall': 0.5670588235294117,\n",
       "   'f1': 0.5527522935779816,\n",
       "   'support': 425},\n",
       "  'ORG': {'precision': 0.625,\n",
       "   'recall': 0.3617021276595745,\n",
       "   'f1': 0.45822102425876016,\n",
       "   'support': 235},\n",
       "  'PER': {'precision': 0.6784037558685446,\n",
       "   'recall': 0.6963855421686747,\n",
       "   'f1': 0.6872770511296077,\n",
       "   'support': 415}},\n",
       " 'macro_P': 0.6141845480039071,\n",
       " 'macro_R': 0.541715497785887,\n",
       " 'macro_F': 0.5660834563221164}"
      ]
     },
     "execution_count": 98,
     "metadata": {},
     "output_type": "execute_result"
    }
   ],
   "source": [
    "OOD_result_T5 = evaluation_T5(OOD, tokeniser, T5_Full_mod, \n",
    "                              device, tag_to_i, batch_size=32)\n",
    "OOD_result_T5"
   ]
  },
  {
   "cell_type": "markdown",
   "id": "9aacc144-4d06-4272-9049-4b9ae9e02eda",
   "metadata": {},
   "source": [
    "### 3-2-2. Simple tags"
   ]
  },
  {
   "cell_type": "code",
   "execution_count": 43,
   "id": "a7c7fbc4-7576-44ea-ab2c-b4a369d64ca8",
   "metadata": {},
   "outputs": [
    {
     "name": "stderr",
     "output_type": "stream",
     "text": [
      "C:\\Users\\86138\\AppData\\Local\\Temp\\ipykernel_24060\\855685083.py:2: FutureWarning: You are using `torch.load` with `weights_only=False` (the current default value), which uses the default pickle module implicitly. It is possible to construct malicious pickle data which will execute arbitrary code during unpickling (See https://github.com/pytorch/pytorch/blob/main/SECURITY.md#untrusted-models for more details). In a future release, the default value for `weights_only` will be flipped to `True`. This limits the functions that could be executed during unpickling. Arbitrary objects will no longer be allowed to be loaded via this mode unless they are explicitly allowlisted by the user via `torch.serialization.add_safe_globals`. We recommend you start setting `weights_only=True` for any use case where you don't have full control of the loaded file. Please open an issue on GitHub for any issues related to this experimental feature.\n",
      "  state = torch.load(path, map_location=device)\n"
     ]
    }
   ],
   "source": [
    "T5_Simple_mod = load_checkpoint_T5(\"T5_Simple_epoch08_4.pt\", device, model)"
   ]
  },
  {
   "cell_type": "code",
   "execution_count": 47,
   "id": "343f418b",
   "metadata": {},
   "outputs": [
    {
     "data": {
      "application/vnd.jupyter.widget-view+json": {
       "model_id": "",
       "version_major": 2,
       "version_minor": 0
      },
      "text/plain": [
       "Validate:   0%|          | 0/65 [00:00<?, ?it/s]"
      ]
     },
     "metadata": {},
     "output_type": "display_data"
    },
    {
     "name": "stdout",
     "output_type": "stream",
     "text": [
      "Test_Simple_F1: 71.8%, Test_Simple_Precision: 70.0%, Test_Simple_Recall: 73.7%\n"
     ]
    }
   ],
   "source": [
    "Test_Simple_Precision, Test_Simple_Recall, Test_Simple_F1 = validate_epoch_T5(Simple_Test, batch_size,\n",
    "                                               tokeniser, T5_Simple_mod, device, max_len=256)\n",
    "\n",
    "print(f\"Test_Simple_F1: {Test_Simple_F1*100:.1f}%, Test_Simple_Precision: {Test_Simple_Precision*100:.1f}%, Test_Simple_Recall: {Test_Simple_Recall*100:.1f}%\")"
   ]
  },
  {
   "cell_type": "code",
   "execution_count": 48,
   "id": "445632bc-9bb3-4849-b67b-87c6dada1002",
   "metadata": {
    "tags": []
   },
   "outputs": [
    {
     "data": {
      "application/vnd.jupyter.widget-view+json": {
       "model_id": "",
       "version_major": 2,
       "version_minor": 0
      },
      "text/plain": [
       "Test:   0%|          | 0/65 [00:00<?, ?it/s]"
      ]
     },
     "metadata": {},
     "output_type": "display_data"
    },
    {
     "data": {
      "text/plain": [
       "{'match_labelled': 0.7371323529411765,\n",
       " 'match_unlabelled': 0.7371323529411765,\n",
       " 'each_tag': {'_': {'precision': 0.7059859154929577,\n",
       "   'recall': 0.7371323529411765,\n",
       "   'f1': 0.721223021582734,\n",
       "   'support': 1088}},\n",
       " 'macro_P': 0.7059859154929577,\n",
       " 'macro_R': 0.7371323529411765,\n",
       " 'macro_F': 0.721223021582734}"
      ]
     },
     "execution_count": 48,
     "metadata": {},
     "output_type": "execute_result"
    }
   ],
   "source": [
    "Simple_Test_result_T5 = evaluation_Simple_T5(Simple_Test, tokeniser, T5_Simple_mod, \n",
    "                                             device, batch_size=32)\n",
    "Simple_Test_result_T5"
   ]
  },
  {
   "cell_type": "code",
   "execution_count": 49,
   "id": "898aa677",
   "metadata": {},
   "outputs": [
    {
     "data": {
      "application/vnd.jupyter.widget-view+json": {
       "model_id": "",
       "version_major": 2,
       "version_minor": 0
      },
      "text/plain": [
       "Validate:   0%|          | 0/32 [00:00<?, ?it/s]"
      ]
     },
     "metadata": {},
     "output_type": "display_data"
    },
    {
     "name": "stdout",
     "output_type": "stream",
     "text": [
      "OOD_Simple_F1: 65.8%, OOD_Simple_Precision: 66.8%, OOD_Simple_Recall: 64.9%\n"
     ]
    }
   ],
   "source": [
    "OOD_Simple_Precision, OOD_Simple_Recall, OOD_Simple_F1 = validate_epoch_T5(Simple_OOD, batch_size,\n",
    "                                               tokeniser, T5_Simple_mod, device, max_len=256)\n",
    "\n",
    "print(f\"OOD_Simple_F1: {OOD_Simple_F1*100:.1f}%, OOD_Simple_Precision: {OOD_Simple_Precision*100:.1f}%, OOD_Simple_Recall: {OOD_Simple_Recall*100:.1f}%\")"
   ]
  },
  {
   "cell_type": "code",
   "execution_count": 104,
   "id": "4509599f-9a01-4b72-8d9d-8410cc5be42c",
   "metadata": {
    "tags": []
   },
   "outputs": [
    {
     "data": {
      "application/vnd.jupyter.widget-view+json": {
       "model_id": "",
       "version_major": 2,
       "version_minor": 0
      },
      "text/plain": [
       "Test:   0%|          | 0/32 [00:00<?, ?it/s]"
      ]
     },
     "metadata": {},
     "output_type": "display_data"
    },
    {
     "data": {
      "text/plain": [
       "{'match_labelled': 0.6493023255813953,\n",
       " 'match_unlabelled': 0.6493023255813953,\n",
       " 'each_tag': {'_': {'precision': 0.6717998075072185,\n",
       "   'recall': 0.6493023255813953,\n",
       "   'f1': 0.6603595080416274,\n",
       "   'support': 1075}},\n",
       " 'macro_P': 0.6717998075072185,\n",
       " 'macro_R': 0.6493023255813953,\n",
       " 'macro_F': 0.6603595080416274}"
      ]
     },
     "execution_count": 104,
     "metadata": {},
     "output_type": "execute_result"
    }
   ],
   "source": [
    "Simple_OOD_result_T5 = evaluation_Simple_T5(Simple_OOD, tokeniser, T5_Simple_mod, \n",
    "                                             device, batch_size=32)\n",
    "Simple_OOD_result_T5"
   ]
  }
 ],
 "metadata": {
  "kernelspec": {
   "display_name": "Python 3 (ipykernel)",
   "language": "python",
   "name": "python3"
  },
  "language_info": {
   "codemirror_mode": {
    "name": "ipython",
    "version": 3
   },
   "file_extension": ".py",
   "mimetype": "text/x-python",
   "name": "python",
   "nbconvert_exporter": "python",
   "pygments_lexer": "ipython3",
   "version": "3.9.12"
  }
 },
 "nbformat": 4,
 "nbformat_minor": 5
}
